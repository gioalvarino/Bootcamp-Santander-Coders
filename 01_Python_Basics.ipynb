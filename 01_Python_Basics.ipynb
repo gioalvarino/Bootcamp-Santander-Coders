{
  "nbformat": 4,
  "nbformat_minor": 0,
  "metadata": {
    "colab": {
      "provenance": [],
      "collapsed_sections": [],
      "authorship_tag": "ABX9TyNyO/OZ8Vm5JA2GdQiET+sx",
      "include_colab_link": true
    },
    "kernelspec": {
      "name": "python3",
      "display_name": "Python 3"
    },
    "language_info": {
      "name": "python"
    }
  },
  "cells": [
    {
      "cell_type": "markdown",
      "metadata": {
        "id": "view-in-github",
        "colab_type": "text"
      },
      "source": [
        "<a href=\"https://colab.research.google.com/github/gioalvarino/Bootcamp-Santander-Coders/blob/main/01_Python_Basics.ipynb\" target=\"_parent\"><img src=\"https://colab.research.google.com/assets/colab-badge.svg\" alt=\"Open In Colab\"/></a>"
      ]
    },
    {
      "cell_type": "markdown",
      "source": [
        "# Phython Basics \n",
        "Curso da Let´s Code (Santander Coders)\n"
      ],
      "metadata": {
        "id": "Yy2jrEZ6P5pY"
      }
    },
    {
      "cell_type": "markdown",
      "source": [
        "## Tipo de Variáveis"
      ],
      "metadata": {
        "id": "MaIbg_YjQ7CB"
      }
    },
    {
      "cell_type": "code",
      "source": [
        "#Tipo Integer\n",
        "x = 5\n",
        "print(type(x))"
      ],
      "metadata": {
        "colab": {
          "base_uri": "https://localhost:8080/"
        },
        "id": "m7Yj4GTTQPSK",
        "outputId": "d92b9a48-45c7-4f4b-ab14-0ecbbfe12088"
      },
      "execution_count": null,
      "outputs": [
        {
          "output_type": "stream",
          "name": "stdout",
          "text": [
            "<class 'int'>\n"
          ]
        }
      ]
    },
    {
      "cell_type": "code",
      "source": [
        "#Tipo Float\n",
        "preco = 19.99\n",
        "print(preco, type(preco))"
      ],
      "metadata": {
        "colab": {
          "base_uri": "https://localhost:8080/"
        },
        "id": "I-mvKoUlQY8B",
        "outputId": "4db1ee0d-5dca-4599-ca62-cbe8c7f31102"
      },
      "execution_count": null,
      "outputs": [
        {
          "output_type": "stream",
          "name": "stdout",
          "text": [
            "19.99 <class 'float'>\n"
          ]
        }
      ]
    },
    {
      "cell_type": "code",
      "source": [
        "#Tipo Texto\n",
        "cidade = 'São Paulo'\n",
        "print(cidade, type(cidade))"
      ],
      "metadata": {
        "colab": {
          "base_uri": "https://localhost:8080/"
        },
        "id": "tkNPxKhaQjJn",
        "outputId": "dc778418-5b9c-4418-fe36-8d7263b62a76"
      },
      "execution_count": null,
      "outputs": [
        {
          "output_type": "stream",
          "name": "stdout",
          "text": [
            "São Paulo <class 'str'>\n"
          ]
        }
      ]
    },
    {
      "cell_type": "code",
      "source": [
        "#Tipo Booleano\n",
        "disponivel = True\n",
        "print(disponivel, type(disponivel))"
      ],
      "metadata": {
        "colab": {
          "base_uri": "https://localhost:8080/"
        },
        "id": "hRW3w7xAQrTu",
        "outputId": "9c3866b9-f47e-4bd6-c11e-26c7eb6a2153"
      },
      "execution_count": null,
      "outputs": [
        {
          "output_type": "stream",
          "name": "stdout",
          "text": [
            "True <class 'bool'>\n"
          ]
        }
      ]
    },
    {
      "cell_type": "markdown",
      "source": [
        "## Operadores Aritmetricos, Lógicos e Relacionais"
      ],
      "metadata": {
        "id": "9o0tWR3yRAmn"
      }
    },
    {
      "cell_type": "code",
      "source": [
        "#Declarando Variáveis\n",
        "x=50\n",
        "y=2"
      ],
      "metadata": {
        "id": "Lk3B1XTmREIQ"
      },
      "execution_count": null,
      "outputs": []
    },
    {
      "cell_type": "code",
      "source": [
        "#Operadores Aritmétricos\n",
        "print(x + y)\n",
        "print(x - y)\n",
        "print(x * y)\n",
        "print(x / y)"
      ],
      "metadata": {
        "colab": {
          "base_uri": "https://localhost:8080/"
        },
        "id": "BDxMroPLRhzn",
        "outputId": "4f0151a2-df5d-4c16-82fc-19ec6d402b0f"
      },
      "execution_count": null,
      "outputs": [
        {
          "output_type": "stream",
          "name": "stdout",
          "text": [
            "52\n",
            "48\n",
            "100\n",
            "25.0\n"
          ]
        }
      ]
    },
    {
      "cell_type": "code",
      "source": [
        "print(x ** y) #Potência\n",
        "print(x // y) #Divisão Inteira\n",
        "print(x % y) # Divide dois valores e retorna o resto da divisão"
      ],
      "metadata": {
        "colab": {
          "base_uri": "https://localhost:8080/"
        },
        "id": "OHOj2B3gRzCP",
        "outputId": "e0f1f2ff-78c4-456a-f43d-0ffb8fab1fe9"
      },
      "execution_count": null,
      "outputs": [
        {
          "output_type": "stream",
          "name": "stdout",
          "text": [
            "2500\n",
            "25\n",
            "0\n"
          ]
        }
      ]
    },
    {
      "cell_type": "code",
      "source": [
        "#Operadores Lógicos\n",
        "tem_cafe = True\n",
        "tem_pao = False"
      ],
      "metadata": {
        "id": "NqKfsTg9STMz"
      },
      "execution_count": null,
      "outputs": []
    },
    {
      "cell_type": "code",
      "source": [
        "print(not tem_cafe)\n",
        "print(tem_cafe or tem_pao)\n",
        "print(tem_cafe and tem_pao)"
      ],
      "metadata": {
        "colab": {
          "base_uri": "https://localhost:8080/"
        },
        "id": "y0CzCWaASaNF",
        "outputId": "ddee293d-f843-4230-f454-fba1b913a4a4"
      },
      "execution_count": null,
      "outputs": [
        {
          "output_type": "stream",
          "name": "stdout",
          "text": [
            "False\n",
            "True\n",
            "False\n"
          ]
        }
      ]
    },
    {
      "cell_type": "code",
      "source": [
        "#Operadores Relacionais\n",
        "dolar = 5.3\n",
        "real = 1"
      ],
      "metadata": {
        "id": "vqxoZlLJS5Oa"
      },
      "execution_count": null,
      "outputs": []
    },
    {
      "cell_type": "code",
      "source": [
        "print(dolar > real)\n",
        "print(dolar < real)\n",
        "print(dolar == real)\n",
        "print(dolar >= real)\n",
        "print(dolar <= real)\n",
        "print(dolar != real)"
      ],
      "metadata": {
        "colab": {
          "base_uri": "https://localhost:8080/"
        },
        "id": "sy-djjosTCSL",
        "outputId": "c9660df0-a86f-4b29-d2f6-e0fc4f35c3bc"
      },
      "execution_count": null,
      "outputs": [
        {
          "output_type": "stream",
          "name": "stdout",
          "text": [
            "True\n",
            "False\n",
            "False\n",
            "True\n",
            "False\n",
            "True\n"
          ]
        }
      ]
    },
    {
      "cell_type": "markdown",
      "source": [
        "## Estruturas Sequenciais"
      ],
      "metadata": {
        "id": "VqYpZScwToAa"
      }
    },
    {
      "cell_type": "code",
      "source": [
        "#Função Input\n",
        "idade = input(\"Informe a sua idade: \")\n",
        "print(idade, type(idade))"
      ],
      "metadata": {
        "colab": {
          "base_uri": "https://localhost:8080/"
        },
        "id": "soJuDQV5Tsnb",
        "outputId": "eeb9b7de-5215-4ddc-c84a-0e846d179251"
      },
      "execution_count": null,
      "outputs": [
        {
          "output_type": "stream",
          "name": "stdout",
          "text": [
            "Informe a sua idade: 23\n",
            "23 <class 'str'>\n"
          ]
        }
      ]
    },
    {
      "cell_type": "code",
      "source": [
        "idade = int(idade)\n",
        "print(idade, type(idade))"
      ],
      "metadata": {
        "colab": {
          "base_uri": "https://localhost:8080/"
        },
        "id": "mr7K_5MwUp-L",
        "outputId": "227d6077-c434-46bb-f44c-f488ce7c3e36"
      },
      "execution_count": null,
      "outputs": [
        {
          "output_type": "stream",
          "name": "stdout",
          "text": [
            "23 <class 'int'>\n"
          ]
        }
      ]
    },
    {
      "cell_type": "code",
      "source": [
        "print(float('123.25'))\n",
        "print(str(123.25))\n",
        "print(bool(''))\n",
        "print(bool('abc'))\n",
        "print(bool(0))\n",
        "print(bool(-2))"
      ],
      "metadata": {
        "colab": {
          "base_uri": "https://localhost:8080/"
        },
        "id": "DdVmGO_eU2G1",
        "outputId": "83b70194-40de-4089-cf51-d71ec5d6e69b"
      },
      "execution_count": null,
      "outputs": [
        {
          "output_type": "stream",
          "name": "stdout",
          "text": [
            "123.25\n",
            "123.25\n",
            "False\n",
            "True\n",
            "False\n",
            "True\n"
          ]
        }
      ]
    },
    {
      "cell_type": "code",
      "source": [
        "#Algoritmo simples\n",
        "salario_mensal = input(\"Digite o valor do seu salário mensal: \")\n",
        "salario_mensal = float(salario_mensal)\n",
        "\n",
        "gasto_mensal = input(\"Digite o valor do seu gasto mensal em média: \")\n",
        "gasto_mensal = float(gasto_mensal)\n",
        "\n",
        "salario_total = salario_mensal * 12\n",
        "gasto_total = gasto_mensal * 12\n",
        "\n",
        "montante_economizado = salario_total - gasto_total\n",
        "print(\"O montante que você pode economizar ao fim do ano é de\", montante_economizado)"
      ],
      "metadata": {
        "colab": {
          "base_uri": "https://localhost:8080/"
        },
        "id": "zQiYHoWJVR4F",
        "outputId": "fcc3c85a-8895-4163-b77b-2454c0b38a30"
      },
      "execution_count": null,
      "outputs": [
        {
          "output_type": "stream",
          "name": "stdout",
          "text": [
            "Digite o valor do seu salário mensal: 5000\n",
            "Digite o valor do seu gasto mensal em média: 2000\n",
            "O montante que você pode economizar ao fim do ano é de 36000.0\n"
          ]
        }
      ]
    },
    {
      "cell_type": "markdown",
      "source": [
        "## Estruturas Condicionais"
      ],
      "metadata": {
        "id": "0XRmxcA4Wg4O"
      }
    },
    {
      "cell_type": "code",
      "source": [
        "valor_passagem = 4.30\n",
        "\n",
        "valor_corrida = input('Qual é o valor da corrida? ')\n",
        "\n",
        "# Se o valor da corrida for 5 vezes o valor da passagem então:\n",
        "\n",
        "if float(valor_corrida) <= valor_passagem * 5:\n",
        "  print('Pague a corrida')\n",
        "if float(valor_corrida) > valor_passagem * 5:\n",
        "  print('Pegue o ônibus')"
      ],
      "metadata": {
        "colab": {
          "base_uri": "https://localhost:8080/"
        },
        "id": "KBMLfd6_Wjwc",
        "outputId": "8ece02a6-6e48-425c-aa1c-01dd8419e0d4"
      },
      "execution_count": null,
      "outputs": [
        {
          "output_type": "stream",
          "name": "stdout",
          "text": [
            "Qual é o valor da corrida? 35\n",
            "Pegue o ônibus\n"
          ]
        }
      ]
    },
    {
      "cell_type": "code",
      "source": [
        "#Utilizando if e else\n",
        "valor_passagem = 4.30\n",
        "\n",
        "valor_corrida = input('Qual é o valor da corrida? ')\n",
        "\n",
        "if float(valor_corrida) <= valor_passagem * 5:\n",
        "  print('Pague a corrida')\n",
        "else:\n",
        "  print('Pegue o ônibus')"
      ],
      "metadata": {
        "colab": {
          "base_uri": "https://localhost:8080/"
        },
        "id": "rwx4bYCaXcex",
        "outputId": "a4b476b0-0fb5-4f2a-fe00-cec803f07d50"
      },
      "execution_count": null,
      "outputs": [
        {
          "output_type": "stream",
          "name": "stdout",
          "text": [
            "Qual é o valor da corrida? 17\n",
            "Pague a corrida\n"
          ]
        }
      ]
    },
    {
      "cell_type": "code",
      "source": [
        "#Acrescentando mais uma condição\n",
        "valor_passagem = 4.30\n",
        "\n",
        "valor_corrida = input('Qual é o valor da corrida? ')\n",
        "\n",
        "if float(valor_corrida) <= valor_passagem * 5:\n",
        "  print('Pague a corrida')\n",
        "else:\n",
        "  if float(valor_corrida) <= valor_passagem * 6:\n",
        "    print('Aguarde um momento, o valor pode abaixar')\n",
        "  else:\n",
        "    print('Pegue o ônibus')"
      ],
      "metadata": {
        "colab": {
          "base_uri": "https://localhost:8080/"
        },
        "id": "voQSNFB7YkOB",
        "outputId": "48925952-7e28-423d-c556-ed76e26981d2"
      },
      "execution_count": null,
      "outputs": [
        {
          "output_type": "stream",
          "name": "stdout",
          "text": [
            "Qual é o valor da corrida? 25\n",
            "Aguarde um momento, o valor pode abaixar\n"
          ]
        }
      ]
    },
    {
      "cell_type": "code",
      "source": [
        "#Utilizando elife\n",
        "valor_passagem = 4.30\n",
        "\n",
        "valor_corrida = input('Qual é o valor da corrida? ')\n",
        "\n",
        "if float(valor_corrida) <= valor_passagem * 5:\n",
        "  print('Pague a corrida')\n",
        "elif float(valor_corrida) <= valor_passagem * 6:\n",
        "    print('Aguarde um momento, o valor pode abaixar')\n",
        "else:\n",
        "    print('Pegue o ônibus')"
      ],
      "metadata": {
        "colab": {
          "base_uri": "https://localhost:8080/"
        },
        "id": "IelGN_8NZeXU",
        "outputId": "5476921a-5918-4f0c-c8ab-14dd0a8adcff"
      },
      "execution_count": null,
      "outputs": [
        {
          "output_type": "stream",
          "name": "stdout",
          "text": [
            "Qual é o valor da corrida? 35\n",
            "Pegue o ônibus\n"
          ]
        }
      ]
    },
    {
      "cell_type": "markdown",
      "source": [
        "## Estruturas de Repetição - While"
      ],
      "metadata": {
        "id": "MPTqWKkzZwWj"
      }
    },
    {
      "cell_type": "code",
      "source": [
        "contador = 0\n",
        "\n",
        "while contador < 10:\n",
        "  contador = contador + 1\n",
        "  if contador == 1:\n",
        "    print(contador, 'Item limpo')\n",
        "  else:\n",
        "    print(contador, 'Itens limpos')\n",
        "\n",
        "print('Fim da repetição do bloco while')"
      ],
      "metadata": {
        "colab": {
          "base_uri": "https://localhost:8080/"
        },
        "id": "kpb45mwtZ20Y",
        "outputId": "afcf4ddb-9ed5-4dce-a3a5-aaded3c1c4dc"
      },
      "execution_count": null,
      "outputs": [
        {
          "output_type": "stream",
          "name": "stdout",
          "text": [
            "1 Item limpo\n",
            "2 Itens limpos\n",
            "3 Itens limpos\n",
            "4 Itens limpos\n",
            "5 Itens limpos\n",
            "6 Itens limpos\n",
            "7 Itens limpos\n",
            "8 Itens limpos\n",
            "9 Itens limpos\n",
            "10 Itens limpos\n",
            "Fim da repetição do bloco while\n"
          ]
        }
      ]
    },
    {
      "cell_type": "code",
      "source": [
        "texto = input('Digite a sua senha: ')\n",
        "\n",
        "while texto != \"LetsCode\":\n",
        "  texto = input('Senha inválida, Tente novamente ')\n",
        "\n",
        "print('Acesso permitido')"
      ],
      "metadata": {
        "colab": {
          "base_uri": "https://localhost:8080/"
        },
        "id": "-scWQSsWcmRg",
        "outputId": "bcaf4293-b01a-41c6-f53d-c52ad134cc9b"
      },
      "execution_count": null,
      "outputs": [
        {
          "output_type": "stream",
          "name": "stdout",
          "text": [
            "Digite a sua senha: LetsCodeAcademy\n",
            "Senha inválida, Tente novamente letscode\n",
            "Senha inválida, Tente novamente LetsCode\n",
            "Acesso permitido\n"
          ]
        }
      ]
    },
    {
      "cell_type": "code",
      "source": [
        "contador = 0\n",
        "\n",
        "while contador < 10:\n",
        "  contador = contador + 1\n",
        "  if contador == 1:\n",
        "      continue\n",
        "  print(contador, 'itens limpos')\n",
        "\n",
        "print('Fim da repetição do bloco while')"
      ],
      "metadata": {
        "colab": {
          "base_uri": "https://localhost:8080/"
        },
        "id": "5BGKgX_oduiH",
        "outputId": "549904b3-ab57-4302-c8c5-980ed9bddd04"
      },
      "execution_count": null,
      "outputs": [
        {
          "output_type": "stream",
          "name": "stdout",
          "text": [
            "2 itens limpos\n",
            "3 itens limpos\n",
            "4 itens limpos\n",
            "5 itens limpos\n",
            "6 itens limpos\n",
            "7 itens limpos\n",
            "8 itens limpos\n",
            "9 itens limpos\n",
            "10 itens limpos\n",
            "Fim da repetição do bloco while\n"
          ]
        }
      ]
    }
  ]
}