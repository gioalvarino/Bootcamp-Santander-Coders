{
  "nbformat": 4,
  "nbformat_minor": 0,
  "metadata": {
    "colab": {
      "provenance": [],
      "collapsed_sections": [],
      "authorship_tag": "ABX9TyPp4yddaIHB84cvp4n5DYC/"
    },
    "kernelspec": {
      "name": "python3",
      "display_name": "Python 3"
    },
    "language_info": {
      "name": "python"
    }
  },
  "cells": [
    {
      "cell_type": "markdown",
      "source": [
        "# Módulo 2"
      ],
      "metadata": {
        "id": "fZiiP90DilJ7"
      }
    },
    {
      "cell_type": "markdown",
      "source": [
        "## Questão 1\n",
        "Faça um programa que olhe todos os itens de uma lista e diga quantos deles\n",
        "são pares."
      ],
      "metadata": {
        "id": "BX6OH5ALin9w"
      }
    },
    {
      "cell_type": "code",
      "execution_count": null,
      "metadata": {
        "colab": {
          "base_uri": "https://localhost:8080/"
        },
        "id": "NqCeeSLDigTC",
        "outputId": "33534b88-43c3-47ea-9e2f-1f46fb27784a"
      },
      "outputs": [
        {
          "output_type": "stream",
          "name": "stdout",
          "text": [
            "A lista contém: 7 números pares\n"
          ]
        }
      ],
      "source": [
        "lista = [1,2,3,4,5,6,7,8,9,10,11,12,13,14,15]\n",
        "contador = 0\n",
        "\n",
        "for valor in lista:\n",
        "  if valor % 2 == 0:\n",
        "    contador +=1\n",
        "\n",
        "print(f'A lista contém: {contador} números pares')"
      ]
    },
    {
      "cell_type": "markdown",
      "source": [
        "## Questão 2\n",
        "Faça um programa que peça para o usuário digitar uma palavra e imprima\n",
        "cada letra em uma linha."
      ],
      "metadata": {
        "id": "c8CFhMMijBRU"
      }
    },
    {
      "cell_type": "code",
      "source": [
        "palavra = input('Insira uma palavra: ')\n",
        "\n",
        "for letras in palavra:\n",
        "  print(letras)"
      ],
      "metadata": {
        "colab": {
          "base_uri": "https://localhost:8080/"
        },
        "id": "6JuAuK8yjEZD",
        "outputId": "9b08321e-3ce8-41a4-a84a-38b579fd90c4"
      },
      "execution_count": null,
      "outputs": [
        {
          "output_type": "stream",
          "name": "stdout",
          "text": [
            "Insira uma palavra: pterodáctilo\n",
            "p\n",
            "t\n",
            "e\n",
            "r\n",
            "o\n",
            "d\n",
            "á\n",
            "c\n",
            "t\n",
            "i\n",
            "l\n",
            "o\n"
          ]
        }
      ]
    },
    {
      "cell_type": "markdown",
      "source": [
        "## Questão 3\n",
        "Faça uma função que recebe duas listas e retorna a soma item a item dessas\n",
        "listas.\n",
        "\n",
        "Exemplo: Se a função receber as listas [1,4,3] e [3,5,1], então a função deve\n",
        "retornar [1+3, 4+5, 3+1] = [4, 9, 4].\n"
      ],
      "metadata": {
        "id": "jvgmM0eWjEvT"
      }
    },
    {
      "cell_type": "code",
      "source": [
        "def soma_listas(lista1,lista2):\n",
        "  soma = []\n",
        "\n",
        "  for i in range(len(lista1)):\n",
        "    soma.append(lista1[i] + lista2[i])\n",
        "  return soma\n",
        "\n",
        "lista1 = [1,4,3]\n",
        "lista2 = [3,5,1]\n",
        "\n",
        "soma_listas(lista1,lista2)"
      ],
      "metadata": {
        "colab": {
          "base_uri": "https://localhost:8080/"
        },
        "id": "KB3iVs8zjK9U",
        "outputId": "f3ba7d7b-2c55-458a-8c8e-f432cb9db227"
      },
      "execution_count": null,
      "outputs": [
        {
          "output_type": "execute_result",
          "data": {
            "text/plain": [
              "[4, 9, 4]"
            ]
          },
          "metadata": {},
          "execution_count": 12
        }
      ]
    },
    {
      "cell_type": "markdown",
      "source": [
        "## Questão 4\n",
        "Crie um dicionário cujas chaves são os meses do ano e os valores são a\n",
        "duração (em dias) de cada mês.\n",
        "\n"
      ],
      "metadata": {
        "id": "g2bqy_xFjKYk"
      }
    },
    {
      "cell_type": "code",
      "source": [
        "dicionario = {\n",
        "    'jan': 31,\n",
        "    'fev': 28,\n",
        "    'mar': 31,\n",
        "    'abr': 30,\n",
        "    'mai': 31,\n",
        "    'jun': 30,\n",
        "    'jul': 31,\n",
        "    'ago': 31,\n",
        "    'set': 30,\n",
        "    'out': 31,\n",
        "    'nov': 30,\n",
        "    'dez': 31\n",
        "}\n",
        "\n",
        "print(dicionario)"
      ],
      "metadata": {
        "id": "Sne8S9XqjTGa",
        "colab": {
          "base_uri": "https://localhost:8080/"
        },
        "outputId": "cdd6f621-e3a6-4583-9fe1-74190e7cfbb1"
      },
      "execution_count": 2,
      "outputs": [
        {
          "output_type": "stream",
          "name": "stdout",
          "text": [
            "{'jan': 31, 'fev': 28, 'mar': 31, 'abr': 30, 'mai': 31, 'jun': 30, 'jul': 31, 'ago': 31, 'set': 30, 'out': 31, 'nov': 30, 'dez': 31}\n"
          ]
        }
      ]
    },
    {
      "cell_type": "markdown",
      "source": [
        "## Questão 5\n",
        "Imprima as chaves seguidas dos seus valores para dicionário criado no\n",
        "exercício anterior.\n",
        "\n",
        "Exemplo:\n",
        "- Janeiro - 31\n",
        "- Fevereiro - 28\n",
        "- Março - 31..."
      ],
      "metadata": {
        "id": "oRwDhx-PjTYs"
      }
    },
    {
      "cell_type": "code",
      "source": [
        "for meses in dicionario.keys():\n",
        "  print(f'{meses} - {dicionario[meses]}')"
      ],
      "metadata": {
        "id": "I8stMyXajawj",
        "colab": {
          "base_uri": "https://localhost:8080/"
        },
        "outputId": "1051ea57-df8a-4cab-e7e7-64afb50ac23f"
      },
      "execution_count": 3,
      "outputs": [
        {
          "output_type": "stream",
          "name": "stdout",
          "text": [
            "jan - 31\n",
            "fev - 28\n",
            "mar - 31\n",
            "abr - 30\n",
            "mai - 31\n",
            "jun - 30\n",
            "jul - 31\n",
            "ago - 31\n",
            "set - 30\n",
            "out - 31\n",
            "nov - 30\n",
            "dez - 31\n"
          ]
        }
      ]
    }
  ]
}