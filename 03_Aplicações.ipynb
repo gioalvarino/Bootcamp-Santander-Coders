{
  "nbformat": 4,
  "nbformat_minor": 0,
  "metadata": {
    "colab": {
      "provenance": [],
      "collapsed_sections": [],
      "authorship_tag": "ABX9TyOqpBWmf626zW5PW4Cxhip4"
    },
    "kernelspec": {
      "name": "python3",
      "display_name": "Python 3"
    },
    "language_info": {
      "name": "python"
    }
  },
  "cells": [
    {
      "cell_type": "markdown",
      "source": [
        "Manipulação de Arquivos"
      ],
      "metadata": {
        "id": "U3JeHMyiYOZm"
      }
    },
    {
      "cell_type": "markdown",
      "source": [
        "## Arquivos txt"
      ],
      "metadata": {
        "id": "5x54bvlORemJ"
      }
    },
    {
      "cell_type": "code",
      "execution_count": null,
      "metadata": {
        "colab": {
          "base_uri": "https://localhost:8080/"
        },
        "id": "4EIS4hoVRanT",
        "outputId": "1a74aae8-dc50-486e-8511-0fa1bc89abad"
      },
      "outputs": [
        {
          "output_type": "stream",
          "name": "stdout",
          "text": [
            "Dom Casmurro \n",
            "\n",
            "Texto de referenda: \n",
            "Obras Completas de Machado de Assis, vol. I, \n",
            "Nova Aguilar, Rio de Janeiro, 1994. \n",
            "Publicado originalmente pela Editora Gamier, Rio de Janeiro, 1899. \n",
            "\n",
            "\n",
            "CAPITULO PRIMEIRO \n",
            "DO TITULO \n",
            "\n",
            "Uma noite destas, vindo da cidade para o Engenho Novo, encontrei no trem da \n",
            "Central um rapaz aqui do bairro, que eu conhego de vista e de chapeu. \n",
            "Cumprimentou-me, sentou-se ao pe de mim, falou da Lua e dos ministros, e \n",
            "acabou recitando-me versos. A viagem era curta, e os versos pode ser que nao \n",
            "fossem inteiramente maus. Sucedeu, porem, que, como eu estava cansado, fechei \n",
            "os olhos tres ou quatro vezes; tanto bastou para que ele interrompesse a leitura e \n",
            "metesse os versos no bolso. \n",
            "\n",
            "— Continue, disse eu acordando. \n",
            "\n",
            "— Ja acabei, murmurou ele. \n",
            "\n",
            "— Sao muito bonitos. \n",
            "\n",
            "Vi-lhe fazer um gesto para tira-los outra vez do bolso, mas nao passou do gesto; \n",
            "estava amuado. No dia seguinte entrou a dizer de mim nomes feios, e acabou \n",
            "alcunhando-me Dom Casmurro. Os vizinhos, que nao gostam dos meus habitos \n",
            "reclusos e calados, deram curso a alcunha, que afinal pegou. Nem por isso me \n",
            "zanguei. Contei a anedota aos amigos da cidade, e eles, por graga, chamam-me \n",
            "assim, alguns em bilhetes: \"Dom Casmurro, domingo vou jantar com voce”.— \n",
            "\"Vou para Petropolis, Dom Casmurro; a casa e a mesma da Renania; ve se deixas \n",
            "essa caverna do Engenho Novo, e vai la passar uns quinze dias comigo\".— \"Meu \n",
            "caro Dom Casmurro, nao cuide que o dispenso do teatro amanha; venha e dormira \n",
            "aqui na cidade; dou-lhe camarote, dou-lhe cha, dou-lhe cama; so nao Ihe dou \n",
            "moga”. \n",
            "\n",
            "Nao consultes dicionarios. Casmurro nao esta aqui no sentido que eles Ihe dao, \n",
            "mas no que Ihe pos o vulgo de homem calado e metido consigo. Dom veio por \n",
            "ironia, para atribuir-me fumos de fidalgo. Tudo por estar cochilando! Tambem nao \n",
            "achei melhor titulo para a minha narracao; se nao tiver outro daqui ate ao fim do \n",
            "livro, vai este mesmo. O meu poeta do trem ficara sabendo que nao Ihe guardo \n",
            "rancor. E com pequeno esforco, sendo o titulo seu, podera cuidar que a obra e \n",
            "sua. Ha livros que apenas terao isso dos seus autores; alguns nem tanto. \n"
          ]
        }
      ],
      "source": [
        "#Leitura do arquivo txt\n",
        "arquivo = open('dom_casmurro_cap_1.txt', 'r', encoding='utf-8') #'r'= modo leitura\n",
        "texto = arquivo.read()\n",
        "print(texto)\n",
        "arquivo.close()"
      ]
    },
    {
      "cell_type": "code",
      "source": [
        "#Leitura do arquivo utilizando o while\n",
        "arquivo = open('dom_casmurro_cap_1.txt', 'r', encoding='utf-8')\n",
        "linha = arquivo.readline()\n",
        "while linha != '':\n",
        "  print(linha, end='')\n",
        "  linha = arquivo.readline()\n",
        "arquivo.close()"
      ],
      "metadata": {
        "colab": {
          "base_uri": "https://localhost:8080/"
        },
        "id": "9Iz2u9hvT73f",
        "outputId": "d4d04027-af5d-4e55-f5bf-6be635511be6"
      },
      "execution_count": null,
      "outputs": [
        {
          "output_type": "stream",
          "name": "stdout",
          "text": [
            "Dom Casmurro \n",
            "\n",
            "Texto de referenda: \n",
            "Obras Completas de Machado de Assis, vol. I, \n",
            "Nova Aguilar, Rio de Janeiro, 1994. \n",
            "Publicado originalmente pela Editora Gamier, Rio de Janeiro, 1899. \n",
            "\n",
            "\n",
            "CAPITULO PRIMEIRO \n",
            "DO TITULO \n",
            "\n",
            "Uma noite destas, vindo da cidade para o Engenho Novo, encontrei no trem da \n",
            "Central um rapaz aqui do bairro, que eu conhego de vista e de chapeu. \n",
            "Cumprimentou-me, sentou-se ao pe de mim, falou da Lua e dos ministros, e \n",
            "acabou recitando-me versos. A viagem era curta, e os versos pode ser que nao \n",
            "fossem inteiramente maus. Sucedeu, porem, que, como eu estava cansado, fechei \n",
            "os olhos tres ou quatro vezes; tanto bastou para que ele interrompesse a leitura e \n",
            "metesse os versos no bolso. \n",
            "\n",
            "— Continue, disse eu acordando. \n",
            "\n",
            "— Ja acabei, murmurou ele. \n",
            "\n",
            "— Sao muito bonitos. \n",
            "\n",
            "Vi-lhe fazer um gesto para tira-los outra vez do bolso, mas nao passou do gesto; \n",
            "estava amuado. No dia seguinte entrou a dizer de mim nomes feios, e acabou \n",
            "alcunhando-me Dom Casmurro. Os vizinhos, que nao gostam dos meus habitos \n",
            "reclusos e calados, deram curso a alcunha, que afinal pegou. Nem por isso me \n",
            "zanguei. Contei a anedota aos amigos da cidade, e eles, por graga, chamam-me \n",
            "assim, alguns em bilhetes: \"Dom Casmurro, domingo vou jantar com voce”.— \n",
            "\"Vou para Petropolis, Dom Casmurro; a casa e a mesma da Renania; ve se deixas \n",
            "essa caverna do Engenho Novo, e vai la passar uns quinze dias comigo\".— \"Meu \n",
            "caro Dom Casmurro, nao cuide que o dispenso do teatro amanha; venha e dormira \n",
            "aqui na cidade; dou-lhe camarote, dou-lhe cha, dou-lhe cama; so nao Ihe dou \n",
            "moga”. \n",
            "\n",
            "Nao consultes dicionarios. Casmurro nao esta aqui no sentido que eles Ihe dao, \n",
            "mas no que Ihe pos o vulgo de homem calado e metido consigo. Dom veio por \n",
            "ironia, para atribuir-me fumos de fidalgo. Tudo por estar cochilando! Tambem nao \n",
            "achei melhor titulo para a minha narracao; se nao tiver outro daqui ate ao fim do \n",
            "livro, vai este mesmo. O meu poeta do trem ficara sabendo que nao Ihe guardo \n",
            "rancor. E com pequeno esforco, sendo o titulo seu, podera cuidar que a obra e \n",
            "sua. Ha livros que apenas terao isso dos seus autores; alguns nem tanto. "
          ]
        }
      ]
    },
    {
      "cell_type": "code",
      "source": [
        "#Leitura do arquivo utilizando o for\n",
        "arquivo = open('dom_casmurro_cap_1.txt', 'r', encoding='utf-8')\n",
        "for linha in arquivo:\n",
        "  print(linha, end='')\n",
        "arquivo.close()"
      ],
      "metadata": {
        "colab": {
          "base_uri": "https://localhost:8080/"
        },
        "id": "uDaPbEnKVO1a",
        "outputId": "de88407d-8141-4ed3-ffa1-dd5c187aa198"
      },
      "execution_count": null,
      "outputs": [
        {
          "output_type": "stream",
          "name": "stdout",
          "text": [
            "Dom Casmurro \n",
            "\n",
            "Texto de referenda: \n",
            "Obras Completas de Machado de Assis, vol. I, \n",
            "Nova Aguilar, Rio de Janeiro, 1994. \n",
            "Publicado originalmente pela Editora Gamier, Rio de Janeiro, 1899. \n",
            "\n",
            "\n",
            "CAPITULO PRIMEIRO \n",
            "DO TITULO \n",
            "\n",
            "Uma noite destas, vindo da cidade para o Engenho Novo, encontrei no trem da \n",
            "Central um rapaz aqui do bairro, que eu conhego de vista e de chapeu. \n",
            "Cumprimentou-me, sentou-se ao pe de mim, falou da Lua e dos ministros, e \n",
            "acabou recitando-me versos. A viagem era curta, e os versos pode ser que nao \n",
            "fossem inteiramente maus. Sucedeu, porem, que, como eu estava cansado, fechei \n",
            "os olhos tres ou quatro vezes; tanto bastou para que ele interrompesse a leitura e \n",
            "metesse os versos no bolso. \n",
            "\n",
            "— Continue, disse eu acordando. \n",
            "\n",
            "— Ja acabei, murmurou ele. \n",
            "\n",
            "— Sao muito bonitos. \n",
            "\n",
            "Vi-lhe fazer um gesto para tira-los outra vez do bolso, mas nao passou do gesto; \n",
            "estava amuado. No dia seguinte entrou a dizer de mim nomes feios, e acabou \n",
            "alcunhando-me Dom Casmurro. Os vizinhos, que nao gostam dos meus habitos \n",
            "reclusos e calados, deram curso a alcunha, que afinal pegou. Nem por isso me \n",
            "zanguei. Contei a anedota aos amigos da cidade, e eles, por graga, chamam-me \n",
            "assim, alguns em bilhetes: \"Dom Casmurro, domingo vou jantar com voce”.— \n",
            "\"Vou para Petropolis, Dom Casmurro; a casa e a mesma da Renania; ve se deixas \n",
            "essa caverna do Engenho Novo, e vai la passar uns quinze dias comigo\".— \"Meu \n",
            "caro Dom Casmurro, nao cuide que o dispenso do teatro amanha; venha e dormira \n",
            "aqui na cidade; dou-lhe camarote, dou-lhe cha, dou-lhe cama; so nao Ihe dou \n",
            "moga”. \n",
            "\n",
            "Nao consultes dicionarios. Casmurro nao esta aqui no sentido que eles Ihe dao, \n",
            "mas no que Ihe pos o vulgo de homem calado e metido consigo. Dom veio por \n",
            "ironia, para atribuir-me fumos de fidalgo. Tudo por estar cochilando! Tambem nao \n",
            "achei melhor titulo para a minha narracao; se nao tiver outro daqui ate ao fim do \n",
            "livro, vai este mesmo. O meu poeta do trem ficara sabendo que nao Ihe guardo \n",
            "rancor. E com pequeno esforco, sendo o titulo seu, podera cuidar que a obra e \n",
            "sua. Ha livros que apenas terao isso dos seus autores; alguns nem tanto. "
          ]
        }
      ]
    },
    {
      "cell_type": "code",
      "source": [
        "#deste modo, não precisa fechar o arquivo, pois o python já entende que ao final o arquivo é fechado\n",
        "with open('dom_casmurro_cap_1.txt', 'r', encoding='utf-8') as arquivo:\n",
        "  texto = arquivo.read()\n",
        "  print(texto)"
      ],
      "metadata": {
        "colab": {
          "base_uri": "https://localhost:8080/"
        },
        "id": "UkJdIaKuVbpE",
        "outputId": "6c9bb9b2-3a39-4d7e-a802-8ef6214c26a6"
      },
      "execution_count": null,
      "outputs": [
        {
          "output_type": "stream",
          "name": "stdout",
          "text": [
            "Dom Casmurro \n",
            "\n",
            "Texto de referenda: \n",
            "Obras Completas de Machado de Assis, vol. I, \n",
            "Nova Aguilar, Rio de Janeiro, 1994. \n",
            "Publicado originalmente pela Editora Gamier, Rio de Janeiro, 1899. \n",
            "\n",
            "\n",
            "CAPITULO PRIMEIRO \n",
            "DO TITULO \n",
            "\n",
            "Uma noite destas, vindo da cidade para o Engenho Novo, encontrei no trem da \n",
            "Central um rapaz aqui do bairro, que eu conhego de vista e de chapeu. \n",
            "Cumprimentou-me, sentou-se ao pe de mim, falou da Lua e dos ministros, e \n",
            "acabou recitando-me versos. A viagem era curta, e os versos pode ser que nao \n",
            "fossem inteiramente maus. Sucedeu, porem, que, como eu estava cansado, fechei \n",
            "os olhos tres ou quatro vezes; tanto bastou para que ele interrompesse a leitura e \n",
            "metesse os versos no bolso. \n",
            "\n",
            "— Continue, disse eu acordando. \n",
            "\n",
            "— Ja acabei, murmurou ele. \n",
            "\n",
            "— Sao muito bonitos. \n",
            "\n",
            "Vi-lhe fazer um gesto para tira-los outra vez do bolso, mas nao passou do gesto; \n",
            "estava amuado. No dia seguinte entrou a dizer de mim nomes feios, e acabou \n",
            "alcunhando-me Dom Casmurro. Os vizinhos, que nao gostam dos meus habitos \n",
            "reclusos e calados, deram curso a alcunha, que afinal pegou. Nem por isso me \n",
            "zanguei. Contei a anedota aos amigos da cidade, e eles, por graga, chamam-me \n",
            "assim, alguns em bilhetes: \"Dom Casmurro, domingo vou jantar com voce”.— \n",
            "\"Vou para Petropolis, Dom Casmurro; a casa e a mesma da Renania; ve se deixas \n",
            "essa caverna do Engenho Novo, e vai la passar uns quinze dias comigo\".— \"Meu \n",
            "caro Dom Casmurro, nao cuide que o dispenso do teatro amanha; venha e dormira \n",
            "aqui na cidade; dou-lhe camarote, dou-lhe cha, dou-lhe cama; so nao Ihe dou \n",
            "moga”. \n",
            "\n",
            "Nao consultes dicionarios. Casmurro nao esta aqui no sentido que eles Ihe dao, \n",
            "mas no que Ihe pos o vulgo de homem calado e metido consigo. Dom veio por \n",
            "ironia, para atribuir-me fumos de fidalgo. Tudo por estar cochilando! Tambem nao \n",
            "achei melhor titulo para a minha narracao; se nao tiver outro daqui ate ao fim do \n",
            "livro, vai este mesmo. O meu poeta do trem ficara sabendo que nao Ihe guardo \n",
            "rancor. E com pequeno esforco, sendo o titulo seu, podera cuidar que a obra e \n",
            "sua. Ha livros que apenas terao isso dos seus autores; alguns nem tanto. \n"
          ]
        }
      ]
    },
    {
      "cell_type": "code",
      "source": [
        "#Criando um arquivo do zero\n",
        "#'w' = cria se não houver um arquivo, caso contrário ele sobrescreve p arquivo existente\n",
        "with open('arquivo_teste.txt', 'w', encoding='utf-8') as arquivo:\n",
        "    arquivo.write('Essa é a primeira linha que eu escrevi usando python\\n')\n",
        "    arquivo.write('Essa é a segunda linha que eu escrevi usando python\\n')\n",
        "\n",
        "with open('arquivo_teste.txt', 'r', encoding='utf-8') as arquivo:\n",
        "  print(arquivo.read(), end='')"
      ],
      "metadata": {
        "colab": {
          "base_uri": "https://localhost:8080/"
        },
        "id": "Sbs65x0JVult",
        "outputId": "2f4b6e4c-1325-43f1-9cc5-f1a3f778aab4"
      },
      "execution_count": null,
      "outputs": [
        {
          "output_type": "stream",
          "name": "stdout",
          "text": [
            "Essa é a primeira linha que eu escrevi usando python\n",
            "Essa é a segunda linha que eu escrevi usando python\n"
          ]
        }
      ]
    },
    {
      "cell_type": "code",
      "source": [
        "#Add texto\n",
        "#'a' = add linhas\n",
        "with open('arquivo_teste.txt', 'a', encoding='utf-8') as arquivo:\n",
        "    arquivo.write('Essa é a terceira linha que eu escrevi usando python\\n')\n",
        "\n",
        "with open('arquivo_teste.txt', 'r', encoding='utf-8') as arquivo:\n",
        "  print(arquivo.read(), end='')"
      ],
      "metadata": {
        "colab": {
          "base_uri": "https://localhost:8080/"
        },
        "id": "3npbA903XmdN",
        "outputId": "7e49b367-b299-400e-d2af-437077153b28"
      },
      "execution_count": null,
      "outputs": [
        {
          "output_type": "stream",
          "name": "stdout",
          "text": [
            "Essa é a primeira linha que eu escrevi usando python\n",
            "Essa é a segunda linha que eu escrevi usando python\n",
            "Essa é a terceira linha que eu escrevi usando python\n"
          ]
        }
      ]
    },
    {
      "cell_type": "markdown",
      "source": [
        "## Arquivos csv"
      ],
      "metadata": {
        "id": "TzhJxacXYSmC"
      }
    },
    {
      "cell_type": "code",
      "source": [
        "#Leitura do Arquivo\n",
        "\n",
        "import csv\n",
        "\n",
        "with open('brasil_covid.csv', 'r', encoding='utf-8') as arquivo_csv:\n",
        "  leitor = csv.reader(arquivo_csv)\n",
        "  header = next(leitor)\n",
        "  for linha in leitor:\n",
        "    if float(linha[2]) > 1:\n",
        "      print(linha)\n"
      ],
      "metadata": {
        "id": "6CcgYY2ZYuhi",
        "colab": {
          "base_uri": "https://localhost:8080/"
        },
        "outputId": "e99a90ef-5baa-4772-edb7-8a72e163b29b"
      },
      "execution_count": null,
      "outputs": [
        {
          "output_type": "stream",
          "name": "stdout",
          "text": [
            "['2020-03-06', 'Brasil', '5', '0', '8', '0']\n",
            "['2020-03-07', 'Brasil', '5', '0', '13', '0']\n",
            "['2020-03-09', 'Brasil', '12', '0', '25', '0']\n",
            "['2020-03-11', 'Brasil', '9', '0', '34', '0']\n",
            "['2020-03-12', 'Brasil', '18', '0', '52', '0']\n",
            "['2020-03-13', 'Brasil', '25', '0', '77', '0']\n",
            "['2020-03-14', 'Brasil', '21', '0', '98', '0']\n",
            "['2020-03-15', 'Brasil', '23', '0', '121', '0']\n",
            "['2020-03-16', 'Brasil', '79', '0', '200', '0']\n",
            "['2020-03-17', 'Brasil', '34', '0', '234', '0']\n",
            "['2020-03-18', 'Brasil', '57', '1', '291', '1']\n",
            "['2020-03-19', 'Brasil', '137', '3', '428', '4']\n",
            "['2020-03-20', 'Brasil', '193', '2', '621', '6']\n",
            "['2020-03-21', 'Brasil', '283', '5', '904', '11']\n",
            "['2020-03-22', 'Brasil', '224', '7', '1128', '18']\n",
            "['2020-03-23', 'Brasil', '418', '7', '1546', '25']\n",
            "['2020-03-24', 'Brasil', '345', '9', '1891', '34']\n",
            "['2020-03-25', 'Brasil', '310', '12', '2201', '46']\n",
            "['2020-03-26', 'Brasil', '232', '11', '2433', '57']\n",
            "['2020-03-27', 'Brasil', '482', '20', '2915', '77']\n",
            "['2020-03-28', 'Brasil', '502', '15', '3417', '92']\n",
            "['2020-03-29', 'Brasil', '487', '22', '3904', '114']\n",
            "['2020-03-30', 'Brasil', '352', '22', '4256', '136']\n",
            "['2020-03-31', 'Brasil', '323', '23', '4579', '159']\n",
            "['2020-04-01', 'Brasil', '1138', '42', '5717', '201']\n",
            "['2020-04-02', 'Brasil', '1119', '40', '6836', '241']\n",
            "['2020-04-03', 'Brasil', '1074', '58', '7910', '299']\n",
            "['2020-04-04', 'Brasil', '1146', '60', '9056', '359']\n",
            "['2020-04-05', 'Brasil', '1222', '73', '10278', '432']\n",
            "['2020-04-06', 'Brasil', '852', '54', '11130', '486']\n",
            "['2020-04-07', 'Brasil', '926', '67', '12056', '553']\n",
            "['2020-04-08', 'Brasil', '1661', '114', '13717', '667']\n",
            "['2020-04-09', 'Brasil', '2210', '133', '15927', '800']\n",
            "['2020-04-10', 'Brasil', '1930', '141', '17857', '941']\n",
            "['2020-04-11', 'Brasil', '1781', '115', '19638', '1056']\n",
            "['2020-04-12', 'Brasil', '1089', '68', '20727', '1124']\n",
            "['2020-04-13', 'Brasil', '1442', '99', '22169', '1223']\n",
            "['2020-04-14', 'Brasil', '1261', '105', '23430', '1328']\n",
            "['2020-04-15', 'Brasil', '1832', '204', '25262', '1532']\n",
            "['2020-04-16', 'Brasil', '3058', '204', '28320', '1736']\n",
            "['2020-04-17', 'Brasil', '2105', '188', '30425', '1924']\n",
            "['2020-04-18', 'Brasil', '3257', '217', '33682', '2141']\n",
            "['2020-04-19', 'Brasil', '2917', '206', '36599', '2347']\n",
            "['2020-04-20', 'Brasil', '2055', '115', '38654', '2462']\n",
            "['2020-04-21', 'Brasil', '1927', '113', '40581', '2575']\n",
            "['2020-04-22', 'Brasil', '2498', '166', '43079', '2741']\n",
            "['2020-04-23', 'Brasil', '2678', '165', '45757', '2906']\n",
            "['2020-04-24', 'Brasil', '3735', '407', '49492', '3313']\n",
            "['2020-04-25', 'Brasil', '3503', '357', '52995', '3670']\n",
            "['2020-04-26', 'Brasil', '5514', '346', '58509', '4016']\n",
            "['2020-04-27', 'Brasil', '3379', '189', '61888', '4205']\n",
            "['2020-04-28', 'Brasil', '4613', '338', '66501', '4543']\n",
            "['2020-04-29', 'Brasil', '5385', '474', '71886', '5017']\n",
            "['2020-04-30', 'Brasil', '6276', '449', '78162', '5466']\n",
            "['2020-05-01', 'Brasil', '7218', '435', '85380', '5901']\n",
            "['2020-05-02', 'Brasil', '6209', '428', '91589', '6329']\n",
            "['2020-05-03', 'Brasil', '4970', '421', '96559', '6750']\n",
            "['2020-05-04', 'Brasil', '4588', '275', '101147', '7025']\n",
            "['2020-05-05', 'Brasil', '6633', '296', '107780', '7321']\n",
            "['2020-05-06', 'Brasil', '6935', '600', '114715', '7921']\n",
            "['2020-05-07', 'Brasil', '10503', '615', '125218', '8536']\n",
            "['2020-05-08', 'Brasil', '9888', '610', '135106', '9146']\n",
            "['2020-05-09', 'Brasil', '10222', '751', '145328', '9897']\n",
            "['2020-05-10', 'Brasil', '10611', '730', '155939', '10627']\n",
            "['2020-05-11', 'Brasil', '6760', '496', '162699', '11123']\n",
            "['2020-05-12', 'Brasil', '5632', '396', '168331', '11519']\n",
            "['2020-05-13', 'Brasil', '9258', '881', '177589', '12400']\n",
            "['2020-05-14', 'Brasil', '11385', '749', '188974', '13149']\n",
            "['2020-05-15', 'Brasil', '13944', '844', '202918', '13993']\n",
            "['2020-05-16', 'Brasil', '15305', '824', '218223', '14817']\n",
            "['2020-05-17', 'Brasil', '14919', '816', '233142', '15633']\n",
            "['2020-05-18', 'Brasil', '7938', '485', '241080', '16118']\n",
            "['2020-05-19', 'Brasil', '13140', '674', '254220', '16792']\n",
            "['2020-05-20', 'Brasil', '17408', '1179', '271628', '17971']\n",
            "['2020-05-21', 'Brasil', '19951', '888', '291579', '18859']\n",
            "['2020-05-22', 'Brasil', '18508', '1188', '310087', '20047']\n",
            "['2020-05-23', 'Brasil', '20803', '1001', '330890', '21048']\n",
            "['2020-05-24', 'Brasil', '16508', '965', '347398', '22013']\n",
            "['2020-05-25', 'Brasil', '15813', '653', '363211', '22666']\n",
            "['2020-05-26', 'Brasil', '11687', '807', '374898', '23473']\n",
            "['2020-05-27', 'Brasil', '16324', '1039', '391222', '24512']\n",
            "['2020-05-28', 'Brasil', '20599', '1086', '411821', '25598']\n",
            "['2020-05-29', 'Brasil', '26417', '1156', '438238', '26754']\n",
            "['2020-05-30', 'Brasil', '26928', '1124', '465166', '27878']\n",
            "['2020-05-31', 'Brasil', '33274', '956', '498440', '28834']\n",
            "['2020-06-01', 'Brasil', '16409', '480', '514849', '29314']\n",
            "['2020-06-02', 'Brasil', '11598', '623', '526447', '29937']\n",
            "['2020-06-03', 'Brasil', '28936', '1262', '555383', '31199']\n",
            "['2020-06-04', 'Brasil', '28633', '1349', '584016', '32548']\n",
            "['2020-06-05', 'Brasil', '30916', '1473', '614932', '34021']\n",
            "['2020-06-06', 'Brasil', '30830', '1005', '645762', '35026']\n",
            "['2020-06-07', 'Brasil', '27075', '904', '672837', '35930']\n",
            "['2020-06-08', 'Brasil', '18921', '525', '691758', '36455']\n",
            "['2020-06-09', 'Brasil', '15654', '679', '707412', '37134']\n",
            "['2020-06-10', 'Brasil', '32091', '1272', '739503', '38406']\n",
            "['2020-06-11', 'Brasil', '32913', '1274', '772416', '39680']\n",
            "['2020-06-12', 'Brasil', '30412', '1239', '802828', '40919']\n",
            "['2020-06-13', 'Brasil', '25982', '909', '828810', '41828']\n",
            "['2020-06-14', 'Brasil', '21704', '892', '850514', '42720']\n",
            "['2020-06-15', 'Brasil', '17110', '612', '867624', '43332']\n",
            "['2020-06-16', 'Brasil', '20647', '627', '888271', '43959']\n"
          ]
        }
      ]
    },
    {
      "cell_type": "code",
      "source": [
        "#Leitura do Arquivo sem utilizar a biblioteca\n",
        "\n",
        "with open('brasil_covid.csv', 'r', encoding='utf-8') as csv_file:\n",
        "  linhas = csv_file.read()\n",
        "  linhas = linhas.split('\\n')\n",
        "  for linha in linhas:\n",
        "    linha = linha.split(',')\n",
        "    print(linha)"
      ],
      "metadata": {
        "colab": {
          "base_uri": "https://localhost:8080/"
        },
        "id": "s6cH1SEm3FFE",
        "outputId": "67338cd9-6512-49d2-dff5-e2b792dab512"
      },
      "execution_count": null,
      "outputs": [
        {
          "output_type": "stream",
          "name": "stdout",
          "text": [
            "['data', 'pais', 'novos_casos', 'novos_obitos', 'total_casos', 'total_obitos']\n",
            "['2019-12-31', 'Brasil', '0', '0', '0', '0']\n",
            "['2020-01-01', 'Brasil', '0', '0', '0', '0']\n",
            "['2020-01-02', 'Brasil', '0', '0', '0', '0']\n",
            "['2020-01-03', 'Brasil', '0', '0', '0', '0']\n",
            "['2020-01-04', 'Brasil', '0', '0', '0', '0']\n",
            "['2020-01-05', 'Brasil', '0', '0', '0', '0']\n",
            "['2020-01-06', 'Brasil', '0', '0', '0', '0']\n",
            "['2020-01-07', 'Brasil', '0', '0', '0', '0']\n",
            "['2020-01-08', 'Brasil', '0', '0', '0', '0']\n",
            "['2020-01-09', 'Brasil', '0', '0', '0', '0']\n",
            "['2020-01-10', 'Brasil', '0', '0', '0', '0']\n",
            "['2020-01-11', 'Brasil', '0', '0', '0', '0']\n",
            "['2020-01-12', 'Brasil', '0', '0', '0', '0']\n",
            "['2020-01-13', 'Brasil', '0', '0', '0', '0']\n",
            "['2020-01-14', 'Brasil', '0', '0', '0', '0']\n",
            "['2020-01-15', 'Brasil', '0', '0', '0', '0']\n",
            "['2020-01-16', 'Brasil', '0', '0', '0', '0']\n",
            "['2020-01-17', 'Brasil', '0', '0', '0', '0']\n",
            "['2020-01-18', 'Brasil', '0', '0', '0', '0']\n",
            "['2020-01-19', 'Brasil', '0', '0', '0', '0']\n",
            "['2020-01-20', 'Brasil', '0', '0', '0', '0']\n",
            "['2020-01-21', 'Brasil', '0', '0', '0', '0']\n",
            "['2020-01-22', 'Brasil', '0', '0', '0', '0']\n",
            "['2020-01-23', 'Brasil', '0', '0', '0', '0']\n",
            "['2020-01-24', 'Brasil', '0', '0', '0', '0']\n",
            "['2020-01-25', 'Brasil', '0', '0', '0', '0']\n",
            "['2020-01-26', 'Brasil', '0', '0', '0', '0']\n",
            "['2020-01-27', 'Brasil', '0', '0', '0', '0']\n",
            "['2020-01-28', 'Brasil', '0', '0', '0', '0']\n",
            "['2020-01-29', 'Brasil', '0', '0', '0', '0']\n",
            "['2020-01-30', 'Brasil', '0', '0', '0', '0']\n",
            "['2020-01-31', 'Brasil', '0', '0', '0', '0']\n",
            "['2020-02-01', 'Brasil', '0', '0', '0', '0']\n",
            "['2020-02-02', 'Brasil', '0', '0', '0', '0']\n",
            "['2020-02-03', 'Brasil', '0', '0', '0', '0']\n",
            "['2020-02-04', 'Brasil', '0', '0', '0', '0']\n",
            "['2020-02-05', 'Brasil', '0', '0', '0', '0']\n",
            "['2020-02-06', 'Brasil', '0', '0', '0', '0']\n",
            "['2020-02-07', 'Brasil', '0', '0', '0', '0']\n",
            "['2020-02-08', 'Brasil', '0', '0', '0', '0']\n",
            "['2020-02-09', 'Brasil', '0', '0', '0', '0']\n",
            "['2020-02-10', 'Brasil', '0', '0', '0', '0']\n",
            "['2020-02-11', 'Brasil', '0', '0', '0', '0']\n",
            "['2020-02-12', 'Brasil', '0', '0', '0', '0']\n",
            "['2020-02-13', 'Brasil', '0', '0', '0', '0']\n",
            "['2020-02-14', 'Brasil', '0', '0', '0', '0']\n",
            "['2020-02-15', 'Brasil', '0', '0', '0', '0']\n",
            "['2020-02-16', 'Brasil', '0', '0', '0', '0']\n",
            "['2020-02-17', 'Brasil', '0', '0', '0', '0']\n",
            "['2020-02-18', 'Brasil', '0', '0', '0', '0']\n",
            "['2020-02-19', 'Brasil', '0', '0', '0', '0']\n",
            "['2020-02-20', 'Brasil', '0', '0', '0', '0']\n",
            "['2020-02-21', 'Brasil', '0', '0', '0', '0']\n",
            "['2020-02-22', 'Brasil', '0', '0', '0', '0']\n",
            "['2020-02-23', 'Brasil', '0', '0', '0', '0']\n",
            "['2020-02-24', 'Brasil', '0', '0', '0', '0']\n",
            "['2020-02-25', 'Brasil', '0', '0', '0', '0']\n",
            "['2020-02-26', 'Brasil', '1', '0', '1', '0']\n",
            "['2020-02-27', 'Brasil', '0', '0', '1', '0']\n",
            "['2020-02-28', 'Brasil', '0', '0', '1', '0']\n",
            "['2020-02-29', 'Brasil', '0', '0', '1', '0']\n",
            "['2020-03-01', 'Brasil', '1', '0', '2', '0']\n",
            "['2020-03-02', 'Brasil', '0', '0', '2', '0']\n",
            "['2020-03-03', 'Brasil', '0', '0', '2', '0']\n",
            "['2020-03-04', 'Brasil', '0', '0', '2', '0']\n",
            "['2020-03-05', 'Brasil', '1', '0', '3', '0']\n",
            "['2020-03-06', 'Brasil', '5', '0', '8', '0']\n",
            "['2020-03-07', 'Brasil', '5', '0', '13', '0']\n",
            "['2020-03-08', 'Brasil', '0', '0', '13', '0']\n",
            "['2020-03-09', 'Brasil', '12', '0', '25', '0']\n",
            "['2020-03-10', 'Brasil', '0', '0', '25', '0']\n",
            "['2020-03-11', 'Brasil', '9', '0', '34', '0']\n",
            "['2020-03-12', 'Brasil', '18', '0', '52', '0']\n",
            "['2020-03-13', 'Brasil', '25', '0', '77', '0']\n",
            "['2020-03-14', 'Brasil', '21', '0', '98', '0']\n",
            "['2020-03-15', 'Brasil', '23', '0', '121', '0']\n",
            "['2020-03-16', 'Brasil', '79', '0', '200', '0']\n",
            "['2020-03-17', 'Brasil', '34', '0', '234', '0']\n",
            "['2020-03-18', 'Brasil', '57', '1', '291', '1']\n",
            "['2020-03-19', 'Brasil', '137', '3', '428', '4']\n",
            "['2020-03-20', 'Brasil', '193', '2', '621', '6']\n",
            "['2020-03-21', 'Brasil', '283', '5', '904', '11']\n",
            "['2020-03-22', 'Brasil', '224', '7', '1128', '18']\n",
            "['2020-03-23', 'Brasil', '418', '7', '1546', '25']\n",
            "['2020-03-24', 'Brasil', '345', '9', '1891', '34']\n",
            "['2020-03-25', 'Brasil', '310', '12', '2201', '46']\n",
            "['2020-03-26', 'Brasil', '232', '11', '2433', '57']\n",
            "['2020-03-27', 'Brasil', '482', '20', '2915', '77']\n",
            "['2020-03-28', 'Brasil', '502', '15', '3417', '92']\n",
            "['2020-03-29', 'Brasil', '487', '22', '3904', '114']\n",
            "['2020-03-30', 'Brasil', '352', '22', '4256', '136']\n",
            "['2020-03-31', 'Brasil', '323', '23', '4579', '159']\n",
            "['2020-04-01', 'Brasil', '1138', '42', '5717', '201']\n",
            "['2020-04-02', 'Brasil', '1119', '40', '6836', '241']\n",
            "['2020-04-03', 'Brasil', '1074', '58', '7910', '299']\n",
            "['2020-04-04', 'Brasil', '1146', '60', '9056', '359']\n",
            "['2020-04-05', 'Brasil', '1222', '73', '10278', '432']\n",
            "['2020-04-06', 'Brasil', '852', '54', '11130', '486']\n",
            "['2020-04-07', 'Brasil', '926', '67', '12056', '553']\n",
            "['2020-04-08', 'Brasil', '1661', '114', '13717', '667']\n",
            "['2020-04-09', 'Brasil', '2210', '133', '15927', '800']\n",
            "['2020-04-10', 'Brasil', '1930', '141', '17857', '941']\n",
            "['2020-04-11', 'Brasil', '1781', '115', '19638', '1056']\n",
            "['2020-04-12', 'Brasil', '1089', '68', '20727', '1124']\n",
            "['2020-04-13', 'Brasil', '1442', '99', '22169', '1223']\n",
            "['2020-04-14', 'Brasil', '1261', '105', '23430', '1328']\n",
            "['2020-04-15', 'Brasil', '1832', '204', '25262', '1532']\n",
            "['2020-04-16', 'Brasil', '3058', '204', '28320', '1736']\n",
            "['2020-04-17', 'Brasil', '2105', '188', '30425', '1924']\n",
            "['2020-04-18', 'Brasil', '3257', '217', '33682', '2141']\n",
            "['2020-04-19', 'Brasil', '2917', '206', '36599', '2347']\n",
            "['2020-04-20', 'Brasil', '2055', '115', '38654', '2462']\n",
            "['2020-04-21', 'Brasil', '1927', '113', '40581', '2575']\n",
            "['2020-04-22', 'Brasil', '2498', '166', '43079', '2741']\n",
            "['2020-04-23', 'Brasil', '2678', '165', '45757', '2906']\n",
            "['2020-04-24', 'Brasil', '3735', '407', '49492', '3313']\n",
            "['2020-04-25', 'Brasil', '3503', '357', '52995', '3670']\n",
            "['2020-04-26', 'Brasil', '5514', '346', '58509', '4016']\n",
            "['2020-04-27', 'Brasil', '3379', '189', '61888', '4205']\n",
            "['2020-04-28', 'Brasil', '4613', '338', '66501', '4543']\n",
            "['2020-04-29', 'Brasil', '5385', '474', '71886', '5017']\n",
            "['2020-04-30', 'Brasil', '6276', '449', '78162', '5466']\n",
            "['2020-05-01', 'Brasil', '7218', '435', '85380', '5901']\n",
            "['2020-05-02', 'Brasil', '6209', '428', '91589', '6329']\n",
            "['2020-05-03', 'Brasil', '4970', '421', '96559', '6750']\n",
            "['2020-05-04', 'Brasil', '4588', '275', '101147', '7025']\n",
            "['2020-05-05', 'Brasil', '6633', '296', '107780', '7321']\n",
            "['2020-05-06', 'Brasil', '6935', '600', '114715', '7921']\n",
            "['2020-05-07', 'Brasil', '10503', '615', '125218', '8536']\n",
            "['2020-05-08', 'Brasil', '9888', '610', '135106', '9146']\n",
            "['2020-05-09', 'Brasil', '10222', '751', '145328', '9897']\n",
            "['2020-05-10', 'Brasil', '10611', '730', '155939', '10627']\n",
            "['2020-05-11', 'Brasil', '6760', '496', '162699', '11123']\n",
            "['2020-05-12', 'Brasil', '5632', '396', '168331', '11519']\n",
            "['2020-05-13', 'Brasil', '9258', '881', '177589', '12400']\n",
            "['2020-05-14', 'Brasil', '11385', '749', '188974', '13149']\n",
            "['2020-05-15', 'Brasil', '13944', '844', '202918', '13993']\n",
            "['2020-05-16', 'Brasil', '15305', '824', '218223', '14817']\n",
            "['2020-05-17', 'Brasil', '14919', '816', '233142', '15633']\n",
            "['2020-05-18', 'Brasil', '7938', '485', '241080', '16118']\n",
            "['2020-05-19', 'Brasil', '13140', '674', '254220', '16792']\n",
            "['2020-05-20', 'Brasil', '17408', '1179', '271628', '17971']\n",
            "['2020-05-21', 'Brasil', '19951', '888', '291579', '18859']\n",
            "['2020-05-22', 'Brasil', '18508', '1188', '310087', '20047']\n",
            "['2020-05-23', 'Brasil', '20803', '1001', '330890', '21048']\n",
            "['2020-05-24', 'Brasil', '16508', '965', '347398', '22013']\n",
            "['2020-05-25', 'Brasil', '15813', '653', '363211', '22666']\n",
            "['2020-05-26', 'Brasil', '11687', '807', '374898', '23473']\n",
            "['2020-05-27', 'Brasil', '16324', '1039', '391222', '24512']\n",
            "['2020-05-28', 'Brasil', '20599', '1086', '411821', '25598']\n",
            "['2020-05-29', 'Brasil', '26417', '1156', '438238', '26754']\n",
            "['2020-05-30', 'Brasil', '26928', '1124', '465166', '27878']\n",
            "['2020-05-31', 'Brasil', '33274', '956', '498440', '28834']\n",
            "['2020-06-01', 'Brasil', '16409', '480', '514849', '29314']\n",
            "['2020-06-02', 'Brasil', '11598', '623', '526447', '29937']\n",
            "['2020-06-03', 'Brasil', '28936', '1262', '555383', '31199']\n",
            "['2020-06-04', 'Brasil', '28633', '1349', '584016', '32548']\n",
            "['2020-06-05', 'Brasil', '30916', '1473', '614932', '34021']\n",
            "['2020-06-06', 'Brasil', '30830', '1005', '645762', '35026']\n",
            "['2020-06-07', 'Brasil', '27075', '904', '672837', '35930']\n",
            "['2020-06-08', 'Brasil', '18921', '525', '691758', '36455']\n",
            "['2020-06-09', 'Brasil', '15654', '679', '707412', '37134']\n",
            "['2020-06-10', 'Brasil', '32091', '1272', '739503', '38406']\n",
            "['2020-06-11', 'Brasil', '32913', '1274', '772416', '39680']\n",
            "['2020-06-12', 'Brasil', '30412', '1239', '802828', '40919']\n",
            "['2020-06-13', 'Brasil', '25982', '909', '828810', '41828']\n",
            "['2020-06-14', 'Brasil', '21704', '892', '850514', '42720']\n",
            "['2020-06-15', 'Brasil', '17110', '612', '867624', '43332']\n",
            "['2020-06-16', 'Brasil', '20647', '627', '888271', '43959']\n",
            "['']\n"
          ]
        }
      ]
    },
    {
      "cell_type": "code",
      "source": [
        "#Escrevendo um arquivo csv\n",
        "\n",
        "with open('users.csv', 'w', newline='') as arquivo_users:\n",
        "  escritor = csv.writer(arquivo_users)\n",
        "  escritor.writerow(['nome','sobrenome','email','genero'])\n",
        "  escritor.writerow(['Giovanna','Alvarino','giovannaalvarino1@gmail.com','Feminino'])"
      ],
      "metadata": {
        "id": "ejqjuVe-4oZD"
      },
      "execution_count": null,
      "outputs": []
    },
    {
      "cell_type": "code",
      "source": [
        "#Exemplo\n",
        "\n",
        "header = ['nome','sobrenome']\n",
        "dados = []\n",
        "opt = input('O que deseja fazer?\\n1 - Cadastrar\\n0 - sair\\n')\n",
        "while opt != '0':\n",
        "  nome = input('Qual seu nome? ')\n",
        "  sobrenome = input('Qual seu sobrenome? ')\n",
        "  dados.append([nome,sobrenome])\n",
        "  opt = input('O que deseja fazer?\\n1 - Cadastrar\\n0 - sair\\n')\n",
        "\n",
        "print(dados)\n",
        "\n",
        "with open('users.csv', 'w', newline='') as arquivo_csv:\n",
        "  writer = csv.writer(arquivo_csv)\n",
        "  writer.writerow(header)\n",
        "  writer.writerows(dados)\n",
        "\n",
        "with open('users.csv', 'r') as csv_file:\n",
        "  csv_reader = csv.reader(csv_file, delimiter=',')\n",
        "  for row in csv_reader:\n",
        "    print(row)\n"
      ],
      "metadata": {
        "colab": {
          "base_uri": "https://localhost:8080/"
        },
        "id": "Sn3eLqRj5fm5",
        "outputId": "2787b992-cde9-4655-a1e5-592cb3e13fbf"
      },
      "execution_count": null,
      "outputs": [
        {
          "output_type": "stream",
          "name": "stdout",
          "text": [
            "O que deseja fazer?\n",
            "1 - Cadastrar\n",
            "0 - sair\n",
            "1\n",
            "Qual seu nome? Giovanna\n",
            "Qual seu sobrenome? Alvarino\n",
            "O que deseja fazer?\n",
            "1 - Cadastrar\n",
            "0 - sair\n",
            "1\n",
            "Qual seu nome? Maria\n",
            "Qual seu sobrenome? Oliveira\n",
            "O que deseja fazer?\n",
            "1 - Cadastrar\n",
            "0 - sair\n",
            "1\n",
            "Qual seu nome? Vitor\n",
            "Qual seu sobrenome? Souza\n",
            "O que deseja fazer?\n",
            "1 - Cadastrar\n",
            "0 - sair\n",
            "0\n",
            "[['Giovanna', 'Alvarino'], ['Maria', 'Oliveira'], ['Vitor', 'Souza']]\n",
            "['nome', 'sobrenome']\n",
            "['Giovanna', 'Alvarino']\n",
            "['Maria', 'Oliveira']\n",
            "['Vitor', 'Souza']\n"
          ]
        }
      ]
    },
    {
      "cell_type": "markdown",
      "source": [
        "## APIs"
      ],
      "metadata": {
        "id": "-27DSgEp74qZ"
      }
    },
    {
      "cell_type": "code",
      "source": [
        "# Instalando a Biblioteca\n",
        "!pip install requests\n",
        "\n",
        "# Importando a Biblioteca\n",
        "import requests"
      ],
      "metadata": {
        "colab": {
          "base_uri": "https://localhost:8080/"
        },
        "id": "6vc_NK_B782Z",
        "outputId": "2728e59c-9997-4acc-bf19-858ad7afa1b1"
      },
      "execution_count": null,
      "outputs": [
        {
          "output_type": "stream",
          "name": "stdout",
          "text": [
            "Looking in indexes: https://pypi.org/simple, https://us-python.pkg.dev/colab-wheels/public/simple/\n",
            "Requirement already satisfied: requests in /usr/local/lib/python3.7/dist-packages (2.23.0)\n",
            "Requirement already satisfied: certifi>=2017.4.17 in /usr/local/lib/python3.7/dist-packages (from requests) (2022.6.15)\n",
            "Requirement already satisfied: urllib3!=1.25.0,!=1.25.1,<1.26,>=1.21.1 in /usr/local/lib/python3.7/dist-packages (from requests) (1.24.3)\n",
            "Requirement already satisfied: idna<3,>=2.5 in /usr/local/lib/python3.7/dist-packages (from requests) (2.10)\n",
            "Requirement already satisfied: chardet<4,>=3.0.2 in /usr/local/lib/python3.7/dist-packages (from requests) (3.0.4)\n"
          ]
        }
      ]
    },
    {
      "cell_type": "code",
      "source": [
        "# Requerendo a Api\n",
        "\n",
        "url = 'https://api.exchangerate-api.com/v6/latest'\n",
        "\n",
        "req = requests.get(url)\n",
        "\n",
        "print(req.status_code)"
      ],
      "metadata": {
        "colab": {
          "base_uri": "https://localhost:8080/"
        },
        "id": "wjYzAlq58uAR",
        "outputId": "dfc85b01-9ecd-42c3-fb86-8f3fa3c6c488"
      },
      "execution_count": null,
      "outputs": [
        {
          "output_type": "stream",
          "name": "stdout",
          "text": [
            "200\n"
          ]
        }
      ]
    },
    {
      "cell_type": "code",
      "source": [
        "# Transforma a requisição json em um dicionário\n",
        "dados = req.json()\n",
        "\n",
        "print(dados)"
      ],
      "metadata": {
        "colab": {
          "base_uri": "https://localhost:8080/"
        },
        "id": "QDtW9V_H9Q6g",
        "outputId": "c1ef09b5-a446-4cbf-9d1e-5e0e81e376f5"
      },
      "execution_count": null,
      "outputs": [
        {
          "output_type": "stream",
          "name": "stdout",
          "text": [
            "{'result': 'success', 'provider': 'https://www.exchangerate-api.com', 'documentation': 'https://www.exchangerate-api.com/docs/free', 'terms_of_use': 'https://www.exchangerate-api.com/terms', 'time_last_update_unix': 1662940952, 'time_last_update_utc': 'Mon, 12 Sep 2022 00:02:32 +0000', 'time_next_update_unix': 1663029342, 'time_next_update_utc': 'Tue, 13 Sep 2022 00:35:42 +0000', 'time_eol_unix': 0, 'base_code': 'USD', 'rates': {'USD': 1, 'AED': 3.6725, 'AFN': 88.49357, 'ALL': 118.020028, 'AMD': 404.871282, 'ANG': 1.79, 'AOA': 428.267336, 'ARS': 141.769684, 'AUD': 1.46079, 'AWG': 1.79, 'AZN': 1.707599, 'BAM': 1.94448, 'BBD': 2, 'BDT': 94.293842, 'BGN': 1.944513, 'BHD': 0.376, 'BIF': 2040.88038, 'BMD': 1, 'BND': 1.397197, 'BOB': 6.930272, 'BRL': 5.189782, 'BSD': 1, 'BTN': 79.685675, 'BWP': 13.023338, 'BYN': 2.621396, 'BZD': 2, 'CAD': 1.301472, 'CDF': 2018.535283, 'CHF': 0.959845, 'CLP': 885.527374, 'CNY': 6.938648, 'COP': 4428.002729, 'CRC': 657.335304, 'CUP': 24, 'CVE': 109.62513, 'CZK': 24.41619, 'DJF': 177.721, 'DKK': 7.417087, 'DOP': 53.2097, 'DZD': 141.49778, 'EGP': 19.371551, 'ERN': 15, 'ETB': 52.664941, 'EUR': 0.994208, 'FJD': 2.215259, 'FKP': 0.862424, 'FOK': 7.417087, 'GBP': 0.862438, 'GEL': 2.847138, 'GGP': 0.862424, 'GHS': 10.214775, 'GIP': 0.862424, 'GMD': 55.743827, 'GNF': 8645.360779, 'GTQ': 7.780579, 'GYD': 209.441414, 'HKD': 7.854756, 'HNL': 24.684178, 'HRK': 7.490777, 'HTG': 120.196943, 'HUF': 393.676247, 'IDR': 14744.063651, 'ILS': 3.425534, 'IMP': 0.862424, 'INR': 79.687675, 'IQD': 1461.262578, 'IRR': 41926.24511, 'ISK': 139.477076, 'JEP': 0.862424, 'JMD': 151.373501, 'JOD': 0.709, 'JPY': 142.736282, 'KES': 120.76377, 'KGS': 81.583202, 'KHR': 4120.405917, 'KID': 1.460782, 'KMF': 489.112852, 'KRW': 1376.737092, 'KWD': 0.29963, 'KYD': 0.833333, 'KZT': 474.844338, 'LAK': 17720.337017, 'LBP': 1507.5, 'LKR': 353.52013, 'LRD': 154.37004, 'LSL': 17.263594, 'LYD': 4.959788, 'MAD': 10.729078, 'MDL': 19.442242, 'MGA': 4123.610739, 'MKD': 61.389743, 'MMK': 2732.196274, 'MNT': 3219.328658, 'MOP': 8.090362, 'MRU': 37.797682, 'MUR': 43.639853, 'MVR': 15.3828, 'MWK': 1033.22329, 'MXN': 19.914109, 'MYR': 4.469037, 'MZN': 64.596477, 'NAD': 17.263594, 'NGN': 427.143168, 'NIO': 36.00544, 'NOK': 9.900584, 'NPR': 127.49708, 'NZD': 1.637888, 'OMR': 0.384497, 'PAB': 1, 'PEN': 3.895934, 'PGK': 3.539575, 'PHP': 56.755504, 'PKR': 228.941417, 'PLN': 4.658219, 'PYG': 6932.224558, 'QAR': 3.64, 'RON': 4.861148, 'RSD': 116.912988, 'RUB': 60.525489, 'RWF': 1059.785844, 'SAR': 3.75, 'SBD': 8.029338, 'SCR': 12.941387, 'SDG': 565.193087, 'SEK': 10.596343, 'SGD': 1.397217, 'SHP': 0.862424, 'SLE': 14.335087, 'SLL': 14335.087214, 'SOS': 569.114115, 'SRD': 26.054512, 'SSP': 650.521146, 'STN': 24.357826, 'SYP': 2523.899289, 'SZL': 17.263594, 'THB': 36.521368, 'TJS': 10.246658, 'TMT': 3.499308, 'TND': 3.148699, 'TOP': 2.345287, 'TRY': 18.249753, 'TTD': 6.791098, 'TVD': 1.460782, 'TWD': 30.72919, 'TZS': 2330.314422, 'UAH': 37.058911, 'UGX': 3815.848833, 'UYU': 41.126432, 'UZS': 10969.900464, 'VES': 7.9835, 'VND': 23538.720975, 'VUV': 116.80188, 'WST': 2.73879, 'XAF': 652.150469, 'XCD': 2.7, 'XDR': 0.765886, 'XOF': 652.150469, 'XPF': 118.639514, 'YER': 251.454232, 'ZAR': 17.263673, 'ZMW': 15.492269, 'ZWL': 581.502991}}\n"
          ]
        }
      ]
    },
    {
      "cell_type": "code",
      "source": [
        "# Exemplo de um algoritmo usando a API\n",
        "\n",
        "valor_reais = float(input('Informe o valor em R$ a ser convertido \\n'))\n",
        "cotacao = dados['rates']['BRL']\n",
        "print(f'R${valor_reais} em dólar valem US$ {(valor_reais / cotacao):.2f}')"
      ],
      "metadata": {
        "colab": {
          "base_uri": "https://localhost:8080/"
        },
        "id": "3me77WvE9ioX",
        "outputId": "dda095a8-d77d-4eaa-ca17-ea370e8d53f0"
      },
      "execution_count": null,
      "outputs": [
        {
          "output_type": "stream",
          "name": "stdout",
          "text": [
            "Informe o valor em R$ a ser convertido \n",
            "100\n",
            "R$100.0 em dólar valem US$ 19.27\n"
          ]
        }
      ]
    }
  ]
}