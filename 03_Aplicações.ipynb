{
  "nbformat": 4,
  "nbformat_minor": 0,
  "metadata": {
    "colab": {
      "provenance": [],
      "collapsed_sections": [],
      "authorship_tag": "ABX9TyMEH1UWxCkttAdXuTKlzDqe",
      "include_colab_link": true
    },
    "kernelspec": {
      "name": "python3",
      "display_name": "Python 3"
    },
    "language_info": {
      "name": "python"
    }
  },
  "cells": [
    {
      "cell_type": "markdown",
      "metadata": {
        "id": "view-in-github",
        "colab_type": "text"
      },
      "source": [
        "<a href=\"https://colab.research.google.com/github/gioalvarino/Bootcamp-Santander-Coders/blob/main/03_Aplica%C3%A7%C3%B5es.ipynb\" target=\"_parent\"><img src=\"https://colab.research.google.com/assets/colab-badge.svg\" alt=\"Open In Colab\"/></a>"
      ]
    },
    {
      "cell_type": "markdown",
      "source": [
        "Manipulação de Arquivos"
      ],
      "metadata": {
        "id": "U3JeHMyiYOZm"
      }
    },
    {
      "cell_type": "markdown",
      "source": [
        "## Arquivos txt"
      ],
      "metadata": {
        "id": "5x54bvlORemJ"
      }
    },
    {
      "cell_type": "code",
      "execution_count": null,
      "metadata": {
        "colab": {
          "base_uri": "https://localhost:8080/"
        },
        "id": "4EIS4hoVRanT",
        "outputId": "1a74aae8-dc50-486e-8511-0fa1bc89abad"
      },
      "outputs": [
        {
          "output_type": "stream",
          "name": "stdout",
          "text": [
            "Dom Casmurro \n",
            "\n",
            "Texto de referenda: \n",
            "Obras Completas de Machado de Assis, vol. I, \n",
            "Nova Aguilar, Rio de Janeiro, 1994. \n",
            "Publicado originalmente pela Editora Gamier, Rio de Janeiro, 1899. \n",
            "\n",
            "\n",
            "CAPITULO PRIMEIRO \n",
            "DO TITULO \n",
            "\n",
            "Uma noite destas, vindo da cidade para o Engenho Novo, encontrei no trem da \n",
            "Central um rapaz aqui do bairro, que eu conhego de vista e de chapeu. \n",
            "Cumprimentou-me, sentou-se ao pe de mim, falou da Lua e dos ministros, e \n",
            "acabou recitando-me versos. A viagem era curta, e os versos pode ser que nao \n",
            "fossem inteiramente maus. Sucedeu, porem, que, como eu estava cansado, fechei \n",
            "os olhos tres ou quatro vezes; tanto bastou para que ele interrompesse a leitura e \n",
            "metesse os versos no bolso. \n",
            "\n",
            "— Continue, disse eu acordando. \n",
            "\n",
            "— Ja acabei, murmurou ele. \n",
            "\n",
            "— Sao muito bonitos. \n",
            "\n",
            "Vi-lhe fazer um gesto para tira-los outra vez do bolso, mas nao passou do gesto; \n",
            "estava amuado. No dia seguinte entrou a dizer de mim nomes feios, e acabou \n",
            "alcunhando-me Dom Casmurro. Os vizinhos, que nao gostam dos meus habitos \n",
            "reclusos e calados, deram curso a alcunha, que afinal pegou. Nem por isso me \n",
            "zanguei. Contei a anedota aos amigos da cidade, e eles, por graga, chamam-me \n",
            "assim, alguns em bilhetes: \"Dom Casmurro, domingo vou jantar com voce”.— \n",
            "\"Vou para Petropolis, Dom Casmurro; a casa e a mesma da Renania; ve se deixas \n",
            "essa caverna do Engenho Novo, e vai la passar uns quinze dias comigo\".— \"Meu \n",
            "caro Dom Casmurro, nao cuide que o dispenso do teatro amanha; venha e dormira \n",
            "aqui na cidade; dou-lhe camarote, dou-lhe cha, dou-lhe cama; so nao Ihe dou \n",
            "moga”. \n",
            "\n",
            "Nao consultes dicionarios. Casmurro nao esta aqui no sentido que eles Ihe dao, \n",
            "mas no que Ihe pos o vulgo de homem calado e metido consigo. Dom veio por \n",
            "ironia, para atribuir-me fumos de fidalgo. Tudo por estar cochilando! Tambem nao \n",
            "achei melhor titulo para a minha narracao; se nao tiver outro daqui ate ao fim do \n",
            "livro, vai este mesmo. O meu poeta do trem ficara sabendo que nao Ihe guardo \n",
            "rancor. E com pequeno esforco, sendo o titulo seu, podera cuidar que a obra e \n",
            "sua. Ha livros que apenas terao isso dos seus autores; alguns nem tanto. \n"
          ]
        }
      ],
      "source": [
        "#Leitura do arquivo txt\n",
        "arquivo = open('dom_casmurro_cap_1.txt', 'r', encoding='utf-8') #'r'= modo leitura\n",
        "texto = arquivo.read()\n",
        "print(texto)\n",
        "arquivo.close()"
      ]
    },
    {
      "cell_type": "code",
      "source": [
        "#Leitura do arquivo utilizando o while\n",
        "arquivo = open('dom_casmurro_cap_1.txt', 'r', encoding='utf-8')\n",
        "linha = arquivo.readline()\n",
        "while linha != '':\n",
        "  print(linha, end='')\n",
        "  linha = arquivo.readline()\n",
        "arquivo.close()"
      ],
      "metadata": {
        "colab": {
          "base_uri": "https://localhost:8080/"
        },
        "id": "9Iz2u9hvT73f",
        "outputId": "d4d04027-af5d-4e55-f5bf-6be635511be6"
      },
      "execution_count": null,
      "outputs": [
        {
          "output_type": "stream",
          "name": "stdout",
          "text": [
            "Dom Casmurro \n",
            "\n",
            "Texto de referenda: \n",
            "Obras Completas de Machado de Assis, vol. I, \n",
            "Nova Aguilar, Rio de Janeiro, 1994. \n",
            "Publicado originalmente pela Editora Gamier, Rio de Janeiro, 1899. \n",
            "\n",
            "\n",
            "CAPITULO PRIMEIRO \n",
            "DO TITULO \n",
            "\n",
            "Uma noite destas, vindo da cidade para o Engenho Novo, encontrei no trem da \n",
            "Central um rapaz aqui do bairro, que eu conhego de vista e de chapeu. \n",
            "Cumprimentou-me, sentou-se ao pe de mim, falou da Lua e dos ministros, e \n",
            "acabou recitando-me versos. A viagem era curta, e os versos pode ser que nao \n",
            "fossem inteiramente maus. Sucedeu, porem, que, como eu estava cansado, fechei \n",
            "os olhos tres ou quatro vezes; tanto bastou para que ele interrompesse a leitura e \n",
            "metesse os versos no bolso. \n",
            "\n",
            "— Continue, disse eu acordando. \n",
            "\n",
            "— Ja acabei, murmurou ele. \n",
            "\n",
            "— Sao muito bonitos. \n",
            "\n",
            "Vi-lhe fazer um gesto para tira-los outra vez do bolso, mas nao passou do gesto; \n",
            "estava amuado. No dia seguinte entrou a dizer de mim nomes feios, e acabou \n",
            "alcunhando-me Dom Casmurro. Os vizinhos, que nao gostam dos meus habitos \n",
            "reclusos e calados, deram curso a alcunha, que afinal pegou. Nem por isso me \n",
            "zanguei. Contei a anedota aos amigos da cidade, e eles, por graga, chamam-me \n",
            "assim, alguns em bilhetes: \"Dom Casmurro, domingo vou jantar com voce”.— \n",
            "\"Vou para Petropolis, Dom Casmurro; a casa e a mesma da Renania; ve se deixas \n",
            "essa caverna do Engenho Novo, e vai la passar uns quinze dias comigo\".— \"Meu \n",
            "caro Dom Casmurro, nao cuide que o dispenso do teatro amanha; venha e dormira \n",
            "aqui na cidade; dou-lhe camarote, dou-lhe cha, dou-lhe cama; so nao Ihe dou \n",
            "moga”. \n",
            "\n",
            "Nao consultes dicionarios. Casmurro nao esta aqui no sentido que eles Ihe dao, \n",
            "mas no que Ihe pos o vulgo de homem calado e metido consigo. Dom veio por \n",
            "ironia, para atribuir-me fumos de fidalgo. Tudo por estar cochilando! Tambem nao \n",
            "achei melhor titulo para a minha narracao; se nao tiver outro daqui ate ao fim do \n",
            "livro, vai este mesmo. O meu poeta do trem ficara sabendo que nao Ihe guardo \n",
            "rancor. E com pequeno esforco, sendo o titulo seu, podera cuidar que a obra e \n",
            "sua. Ha livros que apenas terao isso dos seus autores; alguns nem tanto. "
          ]
        }
      ]
    },
    {
      "cell_type": "code",
      "source": [
        "#Leitura do arquivo utilizando o for\n",
        "arquivo = open('dom_casmurro_cap_1.txt', 'r', encoding='utf-8')\n",
        "for linha in arquivo:\n",
        "  print(linha, end='')\n",
        "arquivo.close()"
      ],
      "metadata": {
        "colab": {
          "base_uri": "https://localhost:8080/"
        },
        "id": "uDaPbEnKVO1a",
        "outputId": "de88407d-8141-4ed3-ffa1-dd5c187aa198"
      },
      "execution_count": null,
      "outputs": [
        {
          "output_type": "stream",
          "name": "stdout",
          "text": [
            "Dom Casmurro \n",
            "\n",
            "Texto de referenda: \n",
            "Obras Completas de Machado de Assis, vol. I, \n",
            "Nova Aguilar, Rio de Janeiro, 1994. \n",
            "Publicado originalmente pela Editora Gamier, Rio de Janeiro, 1899. \n",
            "\n",
            "\n",
            "CAPITULO PRIMEIRO \n",
            "DO TITULO \n",
            "\n",
            "Uma noite destas, vindo da cidade para o Engenho Novo, encontrei no trem da \n",
            "Central um rapaz aqui do bairro, que eu conhego de vista e de chapeu. \n",
            "Cumprimentou-me, sentou-se ao pe de mim, falou da Lua e dos ministros, e \n",
            "acabou recitando-me versos. A viagem era curta, e os versos pode ser que nao \n",
            "fossem inteiramente maus. Sucedeu, porem, que, como eu estava cansado, fechei \n",
            "os olhos tres ou quatro vezes; tanto bastou para que ele interrompesse a leitura e \n",
            "metesse os versos no bolso. \n",
            "\n",
            "— Continue, disse eu acordando. \n",
            "\n",
            "— Ja acabei, murmurou ele. \n",
            "\n",
            "— Sao muito bonitos. \n",
            "\n",
            "Vi-lhe fazer um gesto para tira-los outra vez do bolso, mas nao passou do gesto; \n",
            "estava amuado. No dia seguinte entrou a dizer de mim nomes feios, e acabou \n",
            "alcunhando-me Dom Casmurro. Os vizinhos, que nao gostam dos meus habitos \n",
            "reclusos e calados, deram curso a alcunha, que afinal pegou. Nem por isso me \n",
            "zanguei. Contei a anedota aos amigos da cidade, e eles, por graga, chamam-me \n",
            "assim, alguns em bilhetes: \"Dom Casmurro, domingo vou jantar com voce”.— \n",
            "\"Vou para Petropolis, Dom Casmurro; a casa e a mesma da Renania; ve se deixas \n",
            "essa caverna do Engenho Novo, e vai la passar uns quinze dias comigo\".— \"Meu \n",
            "caro Dom Casmurro, nao cuide que o dispenso do teatro amanha; venha e dormira \n",
            "aqui na cidade; dou-lhe camarote, dou-lhe cha, dou-lhe cama; so nao Ihe dou \n",
            "moga”. \n",
            "\n",
            "Nao consultes dicionarios. Casmurro nao esta aqui no sentido que eles Ihe dao, \n",
            "mas no que Ihe pos o vulgo de homem calado e metido consigo. Dom veio por \n",
            "ironia, para atribuir-me fumos de fidalgo. Tudo por estar cochilando! Tambem nao \n",
            "achei melhor titulo para a minha narracao; se nao tiver outro daqui ate ao fim do \n",
            "livro, vai este mesmo. O meu poeta do trem ficara sabendo que nao Ihe guardo \n",
            "rancor. E com pequeno esforco, sendo o titulo seu, podera cuidar que a obra e \n",
            "sua. Ha livros que apenas terao isso dos seus autores; alguns nem tanto. "
          ]
        }
      ]
    },
    {
      "cell_type": "code",
      "source": [
        "#deste modo, não precisa fechar o arquivo, pois o python já entende que ao final o arquivo é fechado\n",
        "with open('dom_casmurro_cap_1.txt', 'r', encoding='utf-8') as arquivo:\n",
        "  texto = arquivo.read()\n",
        "  print(texto)"
      ],
      "metadata": {
        "colab": {
          "base_uri": "https://localhost:8080/"
        },
        "id": "UkJdIaKuVbpE",
        "outputId": "6c9bb9b2-3a39-4d7e-a802-8ef6214c26a6"
      },
      "execution_count": null,
      "outputs": [
        {
          "output_type": "stream",
          "name": "stdout",
          "text": [
            "Dom Casmurro \n",
            "\n",
            "Texto de referenda: \n",
            "Obras Completas de Machado de Assis, vol. I, \n",
            "Nova Aguilar, Rio de Janeiro, 1994. \n",
            "Publicado originalmente pela Editora Gamier, Rio de Janeiro, 1899. \n",
            "\n",
            "\n",
            "CAPITULO PRIMEIRO \n",
            "DO TITULO \n",
            "\n",
            "Uma noite destas, vindo da cidade para o Engenho Novo, encontrei no trem da \n",
            "Central um rapaz aqui do bairro, que eu conhego de vista e de chapeu. \n",
            "Cumprimentou-me, sentou-se ao pe de mim, falou da Lua e dos ministros, e \n",
            "acabou recitando-me versos. A viagem era curta, e os versos pode ser que nao \n",
            "fossem inteiramente maus. Sucedeu, porem, que, como eu estava cansado, fechei \n",
            "os olhos tres ou quatro vezes; tanto bastou para que ele interrompesse a leitura e \n",
            "metesse os versos no bolso. \n",
            "\n",
            "— Continue, disse eu acordando. \n",
            "\n",
            "— Ja acabei, murmurou ele. \n",
            "\n",
            "— Sao muito bonitos. \n",
            "\n",
            "Vi-lhe fazer um gesto para tira-los outra vez do bolso, mas nao passou do gesto; \n",
            "estava amuado. No dia seguinte entrou a dizer de mim nomes feios, e acabou \n",
            "alcunhando-me Dom Casmurro. Os vizinhos, que nao gostam dos meus habitos \n",
            "reclusos e calados, deram curso a alcunha, que afinal pegou. Nem por isso me \n",
            "zanguei. Contei a anedota aos amigos da cidade, e eles, por graga, chamam-me \n",
            "assim, alguns em bilhetes: \"Dom Casmurro, domingo vou jantar com voce”.— \n",
            "\"Vou para Petropolis, Dom Casmurro; a casa e a mesma da Renania; ve se deixas \n",
            "essa caverna do Engenho Novo, e vai la passar uns quinze dias comigo\".— \"Meu \n",
            "caro Dom Casmurro, nao cuide que o dispenso do teatro amanha; venha e dormira \n",
            "aqui na cidade; dou-lhe camarote, dou-lhe cha, dou-lhe cama; so nao Ihe dou \n",
            "moga”. \n",
            "\n",
            "Nao consultes dicionarios. Casmurro nao esta aqui no sentido que eles Ihe dao, \n",
            "mas no que Ihe pos o vulgo de homem calado e metido consigo. Dom veio por \n",
            "ironia, para atribuir-me fumos de fidalgo. Tudo por estar cochilando! Tambem nao \n",
            "achei melhor titulo para a minha narracao; se nao tiver outro daqui ate ao fim do \n",
            "livro, vai este mesmo. O meu poeta do trem ficara sabendo que nao Ihe guardo \n",
            "rancor. E com pequeno esforco, sendo o titulo seu, podera cuidar que a obra e \n",
            "sua. Ha livros que apenas terao isso dos seus autores; alguns nem tanto. \n"
          ]
        }
      ]
    },
    {
      "cell_type": "code",
      "source": [
        "#Criando um arquivo do zero\n",
        "#'w' = cria se não houver um arquivo, caso contrário ele sobrescreve p arquivo existente\n",
        "with open('arquivo_teste.txt', 'w', encoding='utf-8') as arquivo:\n",
        "    arquivo.write('Essa é a primeira linha que eu escrevi usando python\\n')\n",
        "    arquivo.write('Essa é a segunda linha que eu escrevi usando python\\n')\n",
        "\n",
        "with open('arquivo_teste.txt', 'r', encoding='utf-8') as arquivo:\n",
        "  print(arquivo.read(), end='')"
      ],
      "metadata": {
        "colab": {
          "base_uri": "https://localhost:8080/"
        },
        "id": "Sbs65x0JVult",
        "outputId": "2f4b6e4c-1325-43f1-9cc5-f1a3f778aab4"
      },
      "execution_count": null,
      "outputs": [
        {
          "output_type": "stream",
          "name": "stdout",
          "text": [
            "Essa é a primeira linha que eu escrevi usando python\n",
            "Essa é a segunda linha que eu escrevi usando python\n"
          ]
        }
      ]
    },
    {
      "cell_type": "code",
      "source": [
        "#Add texto\n",
        "#'a' = add linhas\n",
        "with open('arquivo_teste.txt', 'a', encoding='utf-8') as arquivo:\n",
        "    arquivo.write('Essa é a terceira linha que eu escrevi usando python\\n')\n",
        "\n",
        "with open('arquivo_teste.txt', 'r', encoding='utf-8') as arquivo:\n",
        "  print(arquivo.read(), end='')"
      ],
      "metadata": {
        "colab": {
          "base_uri": "https://localhost:8080/"
        },
        "id": "3npbA903XmdN",
        "outputId": "7e49b367-b299-400e-d2af-437077153b28"
      },
      "execution_count": null,
      "outputs": [
        {
          "output_type": "stream",
          "name": "stdout",
          "text": [
            "Essa é a primeira linha que eu escrevi usando python\n",
            "Essa é a segunda linha que eu escrevi usando python\n",
            "Essa é a terceira linha que eu escrevi usando python\n"
          ]
        }
      ]
    },
    {
      "cell_type": "markdown",
      "source": [
        "## Arquivos csv"
      ],
      "metadata": {
        "id": "TzhJxacXYSmC"
      }
    },
    {
      "cell_type": "code",
      "source": [],
      "metadata": {
        "id": "6CcgYY2ZYuhi"
      },
      "execution_count": null,
      "outputs": []
    }
  ]
}