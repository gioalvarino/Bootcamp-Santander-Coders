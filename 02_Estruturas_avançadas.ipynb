{
  "nbformat": 4,
  "nbformat_minor": 0,
  "metadata": {
    "colab": {
      "provenance": [],
      "collapsed_sections": [],
      "authorship_tag": "ABX9TyMKsTttXsbPMHEG9gGC7BMK",
      "include_colab_link": true
    },
    "kernelspec": {
      "name": "python3",
      "display_name": "Python 3"
    },
    "language_info": {
      "name": "python"
    }
  },
  "cells": [
    {
      "cell_type": "markdown",
      "metadata": {
        "id": "view-in-github",
        "colab_type": "text"
      },
      "source": [
        "<a href=\"https://colab.research.google.com/github/gioalvarino/Bootcamp-Santander-Coders/blob/main/02_Estruturas_avan%C3%A7adas.ipynb\" target=\"_parent\"><img src=\"https://colab.research.google.com/assets/colab-badge.svg\" alt=\"Open In Colab\"/></a>"
      ]
    },
    {
      "cell_type": "markdown",
      "source": [
        "# Estruturas Avançadas \n",
        "Curso da Let´s Code (Santander Coders)"
      ],
      "metadata": {
        "id": "5x_kgAJCeqUF"
      }
    },
    {
      "cell_type": "markdown",
      "source": [
        "## Listas"
      ],
      "metadata": {
        "id": "z0_AWe8EevJj"
      }
    },
    {
      "cell_type": "code",
      "execution_count": null,
      "metadata": {
        "colab": {
          "base_uri": "https://localhost:8080/"
        },
        "id": "JEY3-hcBehju",
        "outputId": "d90d53c5-8584-4dec-841d-0b9a818b5d18"
      },
      "outputs": [
        {
          "output_type": "stream",
          "name": "stdout",
          "text": [
            "['Brasil', 'Argentina', 'China', 'Canadá', 'Japão']\n"
          ]
        }
      ],
      "source": [
        "#Listas\n",
        "nomes_paises = ['Brasil', 'Argentina', 'China', 'Canadá', 'Japão']\n",
        "print(nomes_paises)"
      ]
    },
    {
      "cell_type": "code",
      "source": [
        "#Tamanho\n",
        "print('Tamanho da lista', len(nomes_paises))"
      ],
      "metadata": {
        "colab": {
          "base_uri": "https://localhost:8080/"
        },
        "id": "kmCvBSutgkb-",
        "outputId": "f7ee5575-e57c-477f-f8dc-f5d253ae61cd"
      },
      "execution_count": null,
      "outputs": [
        {
          "output_type": "stream",
          "name": "stdout",
          "text": [
            "Tamanho da lista 5\n"
          ]
        }
      ]
    },
    {
      "cell_type": "code",
      "source": [
        "print('País:', nomes_paises[4])"
      ],
      "metadata": {
        "colab": {
          "base_uri": "https://localhost:8080/"
        },
        "id": "4I_T0sVJgvKw",
        "outputId": "ee67ef78-ca47-4bd3-94a4-d6c35e86310a"
      },
      "execution_count": null,
      "outputs": [
        {
          "output_type": "stream",
          "name": "stdout",
          "text": [
            "País: Japão\n"
          ]
        }
      ]
    },
    {
      "cell_type": "code",
      "source": [
        "print('País:', nomes_paises[-1])"
      ],
      "metadata": {
        "colab": {
          "base_uri": "https://localhost:8080/"
        },
        "id": "CS4wiYQNg2YY",
        "outputId": "20a670c5-8810-444f-a754-68ff85317895"
      },
      "execution_count": null,
      "outputs": [
        {
          "output_type": "stream",
          "name": "stdout",
          "text": [
            "País: Japão\n"
          ]
        }
      ]
    },
    {
      "cell_type": "code",
      "source": [
        "#Alterando valores na lista\n",
        "nomes_paises[4] = 'Colômbia'\n",
        "print('País:', nomes_paises[4])\n",
        "print(nomes_paises)"
      ],
      "metadata": {
        "colab": {
          "base_uri": "https://localhost:8080/"
        },
        "id": "wBo9X3L4g9Ut",
        "outputId": "975eceb4-c8d2-4759-8e9c-16eb88a5763b"
      },
      "execution_count": null,
      "outputs": [
        {
          "output_type": "stream",
          "name": "stdout",
          "text": [
            "País: Colômbia\n",
            "['Brasil', 'Argentina', 'China', 'Canadá', 'Colômbia']\n"
          ]
        }
      ]
    },
    {
      "cell_type": "code",
      "source": [
        "#Fatiamento\n",
        "print(nomes_paises[1:3])\n",
        "print(nomes_paises[1:-1])\n",
        "print(nomes_paises[2:])\n",
        "print(nomes_paises[:3])\n",
        "print(nomes_paises[:])\n",
        "print(nomes_paises[::2]) #Pula de 2 em 2\n",
        "print(nomes_paises[::-1]) #Inverte a lista"
      ],
      "metadata": {
        "colab": {
          "base_uri": "https://localhost:8080/"
        },
        "id": "gqp3-__vhLcf",
        "outputId": "6fd12309-dba7-4932-b8b2-096334a2fdf6"
      },
      "execution_count": null,
      "outputs": [
        {
          "output_type": "stream",
          "name": "stdout",
          "text": [
            "['Argentina', 'China']\n",
            "['Argentina', 'China', 'Canadá']\n",
            "['China', 'Canadá', 'Colômbia']\n",
            "['Brasil', 'Argentina', 'China']\n",
            "['Brasil', 'Argentina', 'China', 'Canadá', 'Colômbia']\n",
            "['Brasil', 'China', 'Colômbia']\n",
            "['Colômbia', 'Canadá', 'China', 'Argentina', 'Brasil']\n"
          ]
        }
      ]
    },
    {
      "cell_type": "code",
      "source": [
        "print(\"Brasil\" in nomes_paises)\n",
        "print(\"Canadá\" not in nomes_paises)"
      ],
      "metadata": {
        "colab": {
          "base_uri": "https://localhost:8080/"
        },
        "id": "IjBnsUsghz_h",
        "outputId": "5b2d72f7-d7d8-4669-c153-bc65be4f4d91"
      },
      "execution_count": null,
      "outputs": [
        {
          "output_type": "stream",
          "name": "stdout",
          "text": [
            "True\n",
            "False\n"
          ]
        }
      ]
    },
    {
      "cell_type": "code",
      "source": [
        "#Add elementos\n",
        "lista_capitais =[]\n",
        "\n",
        "lista_capitais.append(\"Brasília\")\n",
        "lista_capitais.append(\"Buenos Aires\")\n",
        "lista_capitais.append(\"Pequim\")\n",
        "lista_capitais.append(\"Bogotá\")\n",
        "\n",
        "print(lista_capitais)"
      ],
      "metadata": {
        "colab": {
          "base_uri": "https://localhost:8080/"
        },
        "id": "b7tTSqY3ihXF",
        "outputId": "fe30f705-e014-487b-ac17-54846c18268c"
      },
      "execution_count": null,
      "outputs": [
        {
          "output_type": "stream",
          "name": "stdout",
          "text": [
            "['Brasília', 'Buenos Aires', 'Pequim', 'Bogotá']\n"
          ]
        }
      ]
    },
    {
      "cell_type": "code",
      "source": [
        "#Inserindo elementos em uma posição específica\n",
        "lista_capitais.insert(2, \"Paris\")\n",
        "print(lista_capitais)"
      ],
      "metadata": {
        "colab": {
          "base_uri": "https://localhost:8080/"
        },
        "id": "go0HmwtNinYK",
        "outputId": "5c77d45a-a7e9-42ea-e329-20af3b4e35c1"
      },
      "execution_count": null,
      "outputs": [
        {
          "output_type": "stream",
          "name": "stdout",
          "text": [
            "['Brasília', 'Buenos Aires', 'Paris', 'Pequim', 'Bogotá']\n"
          ]
        }
      ]
    },
    {
      "cell_type": "code",
      "source": [
        "#Deletando elementos\n",
        "lista_capitais.remove(\"Buenos Aires\")\n",
        "print(lista_capitais)"
      ],
      "metadata": {
        "colab": {
          "base_uri": "https://localhost:8080/"
        },
        "id": "upfbMJ50jRPn",
        "outputId": "1a21cad0-10a7-4554-bf24-dcbc928c24ed"
      },
      "execution_count": null,
      "outputs": [
        {
          "output_type": "stream",
          "name": "stdout",
          "text": [
            "['Brasília', 'Paris', 'Pequim', 'Bogotá']\n"
          ]
        }
      ]
    },
    {
      "cell_type": "code",
      "source": [
        "#Deletando\n",
        "removido = lista_capitais.pop(2)\n",
        "print(lista_capitais, removido)"
      ],
      "metadata": {
        "colab": {
          "base_uri": "https://localhost:8080/"
        },
        "id": "hf5lOnWTjg9N",
        "outputId": "46464d47-a43f-4bbf-e2b9-8dbd465c8b61"
      },
      "execution_count": null,
      "outputs": [
        {
          "output_type": "stream",
          "name": "stdout",
          "text": [
            "['Brasília', 'Paris', 'Bogotá'] Pequim\n"
          ]
        }
      ]
    },
    {
      "cell_type": "markdown",
      "source": [
        "## Tuplas"
      ],
      "metadata": {
        "id": "4Sd3BCbJj57j"
      }
    },
    {
      "cell_type": "code",
      "source": [
        "nomes_paises = ('Brasil', 'Argentina', 'China', 'Canadá', 'Japão')\n",
        "print(nomes_paises)\n",
        "\n",
        "#ou\n",
        "\n",
        "nomes_paises = 'Brasil', 'Argentina', 'China', 'Canadá', 'Japão'\n",
        "print(nomes_paises, type(nomes_paises))"
      ],
      "metadata": {
        "colab": {
          "base_uri": "https://localhost:8080/"
        },
        "id": "MgzYDkk8j06L",
        "outputId": "c8267bf5-10d5-41f6-d1ce-eb691df56e6b"
      },
      "execution_count": null,
      "outputs": [
        {
          "output_type": "stream",
          "name": "stdout",
          "text": [
            "('Brasil', 'Argentina', 'China', 'Canadá', 'Japão')\n",
            "('Brasil', 'Argentina', 'China', 'Canadá', 'Japão') <class 'tuple'>\n"
          ]
        }
      ]
    },
    {
      "cell_type": "code",
      "source": [
        "nome_estado = 'São Paulo',\n",
        "print(nome_estado, type(nome_estado))"
      ],
      "metadata": {
        "colab": {
          "base_uri": "https://localhost:8080/"
        },
        "id": "i_f2yl1TkclA",
        "outputId": "a9c5ae1d-09d5-43cb-847c-6fd99e852dfa"
      },
      "execution_count": null,
      "outputs": [
        {
          "output_type": "stream",
          "name": "stdout",
          "text": [
            "('São Paulo',) <class 'tuple'>\n"
          ]
        }
      ]
    },
    {
      "cell_type": "code",
      "source": [
        "len(nomes_paises)"
      ],
      "metadata": {
        "colab": {
          "base_uri": "https://localhost:8080/"
        },
        "id": "Ka93YPr_kx_S",
        "outputId": "ec0f17e9-7020-4cb7-d39c-c65f51937a58"
      },
      "execution_count": null,
      "outputs": [
        {
          "output_type": "execute_result",
          "data": {
            "text/plain": [
              "5"
            ]
          },
          "metadata": {},
          "execution_count": 32
        }
      ]
    },
    {
      "cell_type": "code",
      "source": [
        "nomes_paises[0]"
      ],
      "metadata": {
        "colab": {
          "base_uri": "https://localhost:8080/",
          "height": 36
        },
        "id": "3gkRSgxsk1wW",
        "outputId": "5408dea7-41cb-4dba-c37f-e90b92d91ce4"
      },
      "execution_count": null,
      "outputs": [
        {
          "output_type": "execute_result",
          "data": {
            "text/plain": [
              "'Brasil'"
            ],
            "application/vnd.google.colaboratory.intrinsic+json": {
              "type": "string"
            }
          },
          "metadata": {},
          "execution_count": 33
        }
      ]
    },
    {
      "cell_type": "code",
      "source": [
        "#unpacking - Separando a tupla em várias variáveis\n",
        "b, a, c, ca, j = nomes_paises\n",
        "print(b, c, j)"
      ],
      "metadata": {
        "colab": {
          "base_uri": "https://localhost:8080/"
        },
        "id": "Iy2GF_ELk34z",
        "outputId": "7c46b422-3445-42b5-dc58-160fbf0e7a86"
      },
      "execution_count": null,
      "outputs": [
        {
          "output_type": "stream",
          "name": "stdout",
          "text": [
            "Brasil China Japão\n"
          ]
        }
      ]
    },
    {
      "cell_type": "code",
      "source": [
        "# unpacking - Imprimir separadamente seu valores\n",
        "print(*nomes_paises)"
      ],
      "metadata": {
        "colab": {
          "base_uri": "https://localhost:8080/"
        },
        "id": "kCZ-OMT_lHrP",
        "outputId": "b95f4873-f553-4a06-c112-a076df8b4b48"
      },
      "execution_count": null,
      "outputs": [
        {
          "output_type": "stream",
          "name": "stdout",
          "text": [
            "Brasil Argentina China Canadá Japão\n"
          ]
        }
      ]
    },
    {
      "cell_type": "markdown",
      "source": [
        "## Strings"
      ],
      "metadata": {
        "id": "kU6IKGg-mKke"
      }
    },
    {
      "cell_type": "code",
      "source": [
        "#Declarando\n",
        "empresa = 'Google'\n",
        "print(empresa)\n",
        "\n",
        "empresa = \"Google\"\n",
        "print(empresa)\n",
        "\n",
        "empresa = \"Let's Code\"\n",
        "print(empresa)"
      ],
      "metadata": {
        "colab": {
          "base_uri": "https://localhost:8080/"
        },
        "id": "wSMyxPNjmNSD",
        "outputId": "a142c459-ec08-4d08-d335-a767752027bc"
      },
      "execution_count": null,
      "outputs": [
        {
          "output_type": "stream",
          "name": "stdout",
          "text": [
            "Google\n",
            "Google\n",
            "Let's Code\n"
          ]
        }
      ]
    },
    {
      "cell_type": "code",
      "source": [
        "#Usa-se \\ caso haja \"\" dentro da string\n",
        "frase = \"O professor Pietro da Let's Code disse: \\\"Hoje a pizza é da minha conta\\\"\"\n",
        "print(frase)"
      ],
      "metadata": {
        "colab": {
          "base_uri": "https://localhost:8080/"
        },
        "id": "cA-u13YEmxln",
        "outputId": "821696b4-f1e9-4908-9cbc-b0666cc6fbb1"
      },
      "execution_count": null,
      "outputs": [
        {
          "output_type": "stream",
          "name": "stdout",
          "text": [
            "O professor Pietro da Let's Code disse: \"Hoje a pizza é da minha conta\"\n"
          ]
        }
      ]
    },
    {
      "cell_type": "code",
      "source": [
        "#Fatiamento\n",
        "empresa = 'Google'\n",
        "\n",
        "print(empresa[0])\n",
        "print(empresa[:3])"
      ],
      "metadata": {
        "colab": {
          "base_uri": "https://localhost:8080/"
        },
        "id": "c_g81_BNnQXj",
        "outputId": "9784a10b-d5c5-41e2-f2b4-bb34d87920a4"
      },
      "execution_count": null,
      "outputs": [
        {
          "output_type": "stream",
          "name": "stdout",
          "text": [
            "G\n",
            "Goo\n"
          ]
        }
      ]
    },
    {
      "cell_type": "code",
      "source": [
        "#Separando através de um delimitador\n",
        "nomes_cidades = \"São Paulo, Belo Horizonte, Rio de Janeiro, Brasília\"\n",
        "nomes_cidades = nomes_cidades.split(', ')\n",
        "print(nomes_cidades)"
      ],
      "metadata": {
        "colab": {
          "base_uri": "https://localhost:8080/"
        },
        "id": "fE4n2f2eniEv",
        "outputId": "ffe5a340-c9f6-44d3-f3b6-5ca7fbe080fc"
      },
      "execution_count": null,
      "outputs": [
        {
          "output_type": "stream",
          "name": "stdout",
          "text": [
            "['São Paulo', 'Belo Horizonte', 'Rio de Janeiro', 'Brasília']\n"
          ]
        }
      ]
    },
    {
      "cell_type": "code",
      "source": [
        "#Tirando espaços excessivos\n",
        "cabecalho = \"                      MENU PRINCIPAL                       \"\n",
        "print(cabecalho.strip())"
      ],
      "metadata": {
        "colab": {
          "base_uri": "https://localhost:8080/"
        },
        "id": "GNhnj76UnvHT",
        "outputId": "735e6a80-d5fa-4c82-a566-039dab60aa01"
      },
      "execution_count": null,
      "outputs": [
        {
          "output_type": "stream",
          "name": "stdout",
          "text": [
            "MENU PRINCIPAL\n"
          ]
        }
      ]
    },
    {
      "cell_type": "code",
      "source": [
        "#Dados despadronizados em caixa alta\n",
        "nome_cidade = 'rIo De jaNeirO'\n",
        "\n",
        "print(nome_cidade.title())\n",
        "print(nome_cidade.capitalize())\n",
        "print(nome_cidade.lower())\n",
        "print(nome_cidade.upper())"
      ],
      "metadata": {
        "colab": {
          "base_uri": "https://localhost:8080/"
        },
        "id": "flnmkUJ4osBc",
        "outputId": "02a961a2-41e3-4d2e-e2dd-9c12aa65631f"
      },
      "execution_count": null,
      "outputs": [
        {
          "output_type": "stream",
          "name": "stdout",
          "text": [
            "Rio De Janeiro\n",
            "Rio de janeiro\n",
            "rio de janeiro\n",
            "RIO DE JANEIRO\n"
          ]
        }
      ]
    },
    {
      "cell_type": "code",
      "source": [
        "#Exemplo\n",
        "nome_cidade = input('Qual cidade do Brasil é conhecida como cidade maravilhosa? ')\n",
        "nome_cidade = nome_cidade.strip()\n",
        "while nome_cidade.lower() != 'rio de janeiro':\n",
        "  print('Tenta de novo, vai ')\n",
        "  nome_cidade = input('Qual cidade do Brasil é conhecida como cidade maravilhosa? ')\n",
        "\n",
        "print('Booa, campeão!')  "
      ],
      "metadata": {
        "colab": {
          "base_uri": "https://localhost:8080/"
        },
        "id": "FJcAI4jYpNkL",
        "outputId": "3b19cb8e-8ab4-4b88-fa82-635a88558aa7"
      },
      "execution_count": null,
      "outputs": [
        {
          "output_type": "stream",
          "name": "stdout",
          "text": [
            "Qual cidade do Brasil é conhecida como cidade maravilhosa? joao pessoa\n",
            "Tenta de novo, vai \n",
            "Qual cidade do Brasil é conhecida como cidade maravilhosa? campina grande\n",
            "Tenta de novo, vai \n",
            "Qual cidade do Brasil é conhecida como cidade maravilhosa? Rio de Janeiro\n",
            "Booa, campeão!\n"
          ]
        }
      ]
    },
    {
      "cell_type": "code",
      "source": [
        "#Está Contido\n",
        "mensagem = \"Você viu o que o Pietro disse na sala ontem?\"\n",
        "fui_citado = 'Pietro' in mensagem\n",
        "print(fui_citado)"
      ],
      "metadata": {
        "colab": {
          "base_uri": "https://localhost:8080/"
        },
        "id": "IHkYb4kxrEqp",
        "outputId": "33fac568-617b-4b0f-a55e-d099c7e6d0d1"
      },
      "execution_count": null,
      "outputs": [
        {
          "output_type": "stream",
          "name": "stdout",
          "text": [
            "True\n"
          ]
        }
      ]
    },
    {
      "cell_type": "code",
      "source": [
        "#Concatenando\n",
        "cumprimento = \"Olá, \"\n",
        "nome = 'Felipe'\n",
        "print(cumprimento + nome)"
      ],
      "metadata": {
        "colab": {
          "base_uri": "https://localhost:8080/"
        },
        "id": "cvZzAW6xrTlU",
        "outputId": "3471535d-55b9-4505-8ad6-9e358f2104e1"
      },
      "execution_count": null,
      "outputs": [
        {
          "output_type": "stream",
          "name": "stdout",
          "text": [
            "Olá, Felipe\n"
          ]
        }
      ]
    },
    {
      "cell_type": "code",
      "source": [
        "print(nome * 5)"
      ],
      "metadata": {
        "colab": {
          "base_uri": "https://localhost:8080/"
        },
        "id": "g87A3CP_sFMZ",
        "outputId": "7e029464-a078-44af-8879-a8a5e1308477"
      },
      "execution_count": null,
      "outputs": [
        {
          "output_type": "stream",
          "name": "stdout",
          "text": [
            "FelipeFelipeFelipeFelipeFelipe\n"
          ]
        }
      ]
    },
    {
      "cell_type": "code",
      "source": [
        "nome = 'Felipe'\n",
        "idade = 35\n",
        "n_filhos = 2\n",
        "print(nome + ' tem ' + str(idade) + ' anos e ' + str(n_filhos) + ' filhos.')"
      ],
      "metadata": {
        "colab": {
          "base_uri": "https://localhost:8080/"
        },
        "id": "2yBi3IdlsJES",
        "outputId": "05fe53b1-8af6-482f-e78d-617209d6841f"
      },
      "execution_count": null,
      "outputs": [
        {
          "output_type": "stream",
          "name": "stdout",
          "text": [
            "Felipe tem 35 anos e 2 filhos.\n"
          ]
        }
      ]
    },
    {
      "cell_type": "code",
      "source": [
        "#Melhor Prática\n",
        "print('{} tem {} anos e {} filhos.'.format(nome, idade, n_filhos))"
      ],
      "metadata": {
        "colab": {
          "base_uri": "https://localhost:8080/"
        },
        "id": "LCCN4pdKsqEp",
        "outputId": "18d84a21-0439-4b16-8e3e-078942ef65a3"
      },
      "execution_count": null,
      "outputs": [
        {
          "output_type": "stream",
          "name": "stdout",
          "text": [
            "Felipe tem 35 anos e 2 filhos.\n"
          ]
        }
      ]
    },
    {
      "cell_type": "code",
      "source": [
        "#Arredondamento dentro da string\n",
        "preco_gasolina = 3.476\n",
        "print('O preço da gasolina hoje, subiu e está em R$ {:.2f}'.format(preco_gasolina))"
      ],
      "metadata": {
        "colab": {
          "base_uri": "https://localhost:8080/"
        },
        "id": "OmiQLsIgtFmr",
        "outputId": "ea655560-245a-43af-f637-95258187bd0d"
      },
      "execution_count": null,
      "outputs": [
        {
          "output_type": "stream",
          "name": "stdout",
          "text": [
            "O preço da gasolina hoje, subiu e está em R$ 3.48\n"
          ]
        }
      ]
    },
    {
      "cell_type": "code",
      "source": [
        "#Atalho da função format\n",
        "print(f'{nome} tem {idade} anos e {n_filhos} filhos.')"
      ],
      "metadata": {
        "colab": {
          "base_uri": "https://localhost:8080/"
        },
        "id": "JgBUfnV-uBrB",
        "outputId": "ed5de2c4-b569-4e0e-b7bc-ef58940aabb6"
      },
      "execution_count": null,
      "outputs": [
        {
          "output_type": "stream",
          "name": "stdout",
          "text": [
            "Felipe tem 35 anos e 2 filhos.\n"
          ]
        }
      ]
    },
    {
      "cell_type": "markdown",
      "source": [
        "## Dicionários\n",
        "\n",
        "Coleção desassociativa desordenada"
      ],
      "metadata": {
        "id": "Sr7E9D__uakO"
      }
    },
    {
      "cell_type": "code",
      "source": [
        "#Declarando\n",
        "dados_cidade = {\n",
        "    'nome': 'São Paulo',\n",
        "    'estado': 'São Paulo',\n",
        "    'area_km2': 1521,\n",
        "    'populacao_milhoes': 12.18\n",
        "}"
      ],
      "metadata": {
        "id": "5sFlgC1fuc6P"
      },
      "execution_count": null,
      "outputs": []
    },
    {
      "cell_type": "code",
      "source": [
        "print(type(dados_cidade))"
      ],
      "metadata": {
        "colab": {
          "base_uri": "https://localhost:8080/"
        },
        "id": "iRs2q0BUvkFG",
        "outputId": "eb000658-93e9-40ea-dbe2-c26531ae416a"
      },
      "execution_count": null,
      "outputs": [
        {
          "output_type": "stream",
          "name": "stdout",
          "text": [
            "<class 'dict'>\n"
          ]
        }
      ]
    },
    {
      "cell_type": "code",
      "source": [
        "print(dados_cidade)"
      ],
      "metadata": {
        "colab": {
          "base_uri": "https://localhost:8080/"
        },
        "id": "uwIFXyaxvnH9",
        "outputId": "1e74cd21-7094-4ffb-88e9-b75619b9fa34"
      },
      "execution_count": null,
      "outputs": [
        {
          "output_type": "stream",
          "name": "stdout",
          "text": [
            "{'nome': 'São Paulo', 'estado': 'São Paulo', 'area_km2': 1521, 'populacao_milhoes': 12.18}\n"
          ]
        }
      ]
    },
    {
      "cell_type": "code",
      "source": [
        "#Add dados os dicionário\n",
        "dados_cidade['pais'] = 'Brasil'\n",
        "print(dados_cidade)"
      ],
      "metadata": {
        "colab": {
          "base_uri": "https://localhost:8080/"
        },
        "id": "c_W95_MavpOI",
        "outputId": "d5b1d770-9b40-4c42-cea2-b4081d00b05c"
      },
      "execution_count": null,
      "outputs": [
        {
          "output_type": "stream",
          "name": "stdout",
          "text": [
            "{'nome': 'São Paulo', 'estado': 'São Paulo', 'area_km2': 1521, 'populacao_milhoes': 12.18, 'pais': 'Brasil'}\n"
          ]
        }
      ]
    },
    {
      "cell_type": "code",
      "source": [
        "#Acessando elementos no dicionário\n",
        "print(dados_cidade['nome'])"
      ],
      "metadata": {
        "colab": {
          "base_uri": "https://localhost:8080/"
        },
        "id": "Tjfwrc4tv59H",
        "outputId": "346303a2-8017-4393-fb85-7b95f39d95e3"
      },
      "execution_count": null,
      "outputs": [
        {
          "output_type": "stream",
          "name": "stdout",
          "text": [
            "São Paulo\n"
          ]
        }
      ]
    },
    {
      "cell_type": "code",
      "source": [
        "#Alterando valores do dicionário\n",
        "dados_cidade['area_km2'] = 1500\n",
        "print(dados_cidade)"
      ],
      "metadata": {
        "colab": {
          "base_uri": "https://localhost:8080/"
        },
        "id": "ihIcyESfwHIc",
        "outputId": "a3fbee23-bcd1-4c32-f861-7bfd249895c1"
      },
      "execution_count": null,
      "outputs": [
        {
          "output_type": "stream",
          "name": "stdout",
          "text": [
            "{'nome': 'São Paulo', 'estado': 'São Paulo', 'area_km2': 1500, 'populacao_milhoes': 12.18, 'pais': 'Brasil'}\n"
          ]
        }
      ]
    },
    {
      "cell_type": "code",
      "source": [
        "dados_cidade2 = dados_cidade\n",
        "\n",
        "dados_cidade2['nome'] = 'Santos'\n",
        "\n",
        "print(dados_cidade2)\n",
        "print(dados_cidade)"
      ],
      "metadata": {
        "colab": {
          "base_uri": "https://localhost:8080/"
        },
        "id": "Ggm1Doo2wQDo",
        "outputId": "b6fa9965-be0a-4daa-9393-1d08439b3fe9"
      },
      "execution_count": null,
      "outputs": [
        {
          "output_type": "stream",
          "name": "stdout",
          "text": [
            "{'nome': 'Santos', 'estado': 'São Paulo', 'area_km2': 1500, 'populacao_milhoes': 12.18, 'pais': 'Brasil'}\n",
            "{'nome': 'Santos', 'estado': 'São Paulo', 'area_km2': 1500, 'populacao_milhoes': 12.18, 'pais': 'Brasil'}\n"
          ]
        }
      ]
    },
    {
      "cell_type": "code",
      "source": [
        "#Copiando um dicionário existente e fazendo alterações na cópia\n",
        "dados_cidade3 = dados_cidade.copy()\n",
        "\n",
        "dados_cidade3['estado'] = 'Rio de Janeiro'\n",
        "\n",
        "print(dados_cidade3)\n",
        "print(dados_cidade)"
      ],
      "metadata": {
        "colab": {
          "base_uri": "https://localhost:8080/"
        },
        "id": "79i4jZ9LwsvV",
        "outputId": "2e6c387a-a2a2-49e3-e100-171bf30fb8ed"
      },
      "execution_count": null,
      "outputs": [
        {
          "output_type": "stream",
          "name": "stdout",
          "text": [
            "{'nome': 'Santos', 'estado': 'Rio de Janeiro', 'area_km2': 1500, 'populacao_milhoes': 12.18, 'pais': 'Brasil'}\n",
            "{'nome': 'Santos', 'estado': 'São Paulo', 'area_km2': 1500, 'populacao_milhoes': 12.18, 'pais': 'Brasil'}\n"
          ]
        }
      ]
    },
    {
      "cell_type": "code",
      "source": [
        "#Atualizando dados em um dicionário\n",
        "novos_dados = {\n",
        "    'populacao_milhoes': 15,\n",
        "    'fundacao': '25/01/1554'\n",
        "}\n",
        "\n",
        "dados_cidade['nome'] = 'São Paulo'\n",
        "\n",
        "dados_cidade.update(novos_dados)\n",
        "print(dados_cidade)"
      ],
      "metadata": {
        "colab": {
          "base_uri": "https://localhost:8080/"
        },
        "id": "kZ9D7nb0xOTC",
        "outputId": "3cc21325-8499-4a09-b3b0-ce2b1f8850cc"
      },
      "execution_count": null,
      "outputs": [
        {
          "output_type": "stream",
          "name": "stdout",
          "text": [
            "{'nome': 'São Paulo', 'estado': 'São Paulo', 'area_km2': 1500, 'populacao_milhoes': 15, 'pais': 'Brasil', 'fundacao': '25/01/1554'}\n"
          ]
        }
      ]
    },
    {
      "cell_type": "code",
      "source": [
        "#Método get\n",
        "print(dados_cidade.get('prefeito'))"
      ],
      "metadata": {
        "colab": {
          "base_uri": "https://localhost:8080/"
        },
        "id": "qM5-1zUxx3sM",
        "outputId": "5e34c924-5f11-4409-e02c-8993408c7bb3"
      },
      "execution_count": null,
      "outputs": [
        {
          "output_type": "stream",
          "name": "stdout",
          "text": [
            "None\n"
          ]
        }
      ]
    },
    {
      "cell_type": "code",
      "source": [
        "#Transformando dicionário em lista\n",
        "\n",
        "print(dados_cidade.keys()) #retorna uma lista de chaves de um dicionário\n",
        "print('----')\n",
        "\n",
        "print(dados_cidade.values()) # retorna uma lista de valores de um dicionário\n",
        "print('----')\n",
        "\n",
        "print(dados_cidade.items()) #retorna uma lista de tuplas (chave, valor) de um dicionário"
      ],
      "metadata": {
        "colab": {
          "base_uri": "https://localhost:8080/"
        },
        "id": "Zu5EzTp1yN5W",
        "outputId": "e5f4bf54-31b6-4d43-bcd6-07384a0c500c"
      },
      "execution_count": null,
      "outputs": [
        {
          "output_type": "stream",
          "name": "stdout",
          "text": [
            "dict_keys(['nome', 'estado', 'area_km2', 'populacao_milhoes', 'pais', 'fundacao'])\n",
            "----\n",
            "dict_values(['São Paulo', 'São Paulo', 1500, 15, 'Brasil', '25/01/1554'])\n",
            "----\n",
            "dict_items([('nome', 'São Paulo'), ('estado', 'São Paulo'), ('area_km2', 1500), ('populacao_milhoes', 15), ('pais', 'Brasil'), ('fundacao', '25/01/1554')])\n"
          ]
        }
      ]
    },
    {
      "cell_type": "markdown",
      "source": [
        "## Estruturas de Repetição For"
      ],
      "metadata": {
        "id": "h23sszX-y_kx"
      }
    },
    {
      "cell_type": "code",
      "source": [
        "#Imprime cada item de uma lista utilizando for\n",
        "nomes_cidades = ['São Paulo', 'Londres', 'Tóquio', 'Paris']\n",
        "for nome in nomes_cidades:\n",
        "  print(nome)"
      ],
      "metadata": {
        "colab": {
          "base_uri": "https://localhost:8080/"
        },
        "id": "REQL2BS-zGou",
        "outputId": "607f5b53-7f85-4752-83c0-36c03588bde9"
      },
      "execution_count": null,
      "outputs": [
        {
          "output_type": "stream",
          "name": "stdout",
          "text": [
            "São Paulo\n",
            "Londres\n",
            "Tóquio\n",
            "Paris\n"
          ]
        }
      ]
    },
    {
      "cell_type": "code",
      "source": [
        "#Imprime cada item de uma lista utilizando while\n",
        "contador = 0\n",
        "nomes_cidades = ['São Paulo', 'Londres', 'Tóquio', 'Paris']\n",
        "while contador < len(nomes_cidades):\n",
        "  print(nomes_cidades[contador])\n",
        "  contador = contador + 1 "
      ],
      "metadata": {
        "colab": {
          "base_uri": "https://localhost:8080/"
        },
        "id": "XlmqHGQd7vdZ",
        "outputId": "850a9bde-029d-4664-8ea5-6b8f37b62f37"
      },
      "execution_count": null,
      "outputs": [
        {
          "output_type": "stream",
          "name": "stdout",
          "text": [
            "São Paulo\n",
            "Londres\n",
            "Tóquio\n",
            "Paris\n"
          ]
        }
      ]
    },
    {
      "cell_type": "code",
      "source": [
        "#utilizando uma tupla\n",
        "nomes_cidades = ('São Paulo', 'Londres', 'Tóquio', 'Paris')\n",
        "for nome in nomes_cidades:\n",
        "  print(nome)"
      ],
      "metadata": {
        "colab": {
          "base_uri": "https://localhost:8080/"
        },
        "id": "s8Wsl0WN8NnM",
        "outputId": "4b05a164-00c8-4159-85ab-7223a47f119c"
      },
      "execution_count": null,
      "outputs": [
        {
          "output_type": "stream",
          "name": "stdout",
          "text": [
            "São Paulo\n",
            "Londres\n",
            "Tóquio\n",
            "Paris\n"
          ]
        }
      ]
    },
    {
      "cell_type": "code",
      "source": [
        "#utilizando o for em um dicionário\n",
        "cidade = {\n",
        "    'nome': 'São Paulo',\n",
        "    'estado': 'São Paulo',\n",
        "    'populacao_milhoes': 12.2\n",
        "}\n",
        "for chave in cidade:\n",
        "  print(f'{chave}: {cidade[chave]}')"
      ],
      "metadata": {
        "colab": {
          "base_uri": "https://localhost:8080/"
        },
        "id": "_GDjChe68h_c",
        "outputId": "e0573274-5dc3-4faf-e07f-62e910339918"
      },
      "execution_count": null,
      "outputs": [
        {
          "output_type": "stream",
          "name": "stdout",
          "text": [
            "nome: São Paulo\n",
            "estado: São Paulo\n",
            "populacao_milhoes: 12.2\n"
          ]
        }
      ]
    },
    {
      "cell_type": "code",
      "source": [
        "nomes_cidades = ['São Paulo', 'Londres', 'Tóquio', 'Paris']\n",
        "for nome in nomes_cidades:\n",
        "  nome = 'Rio de Janeiro'\n",
        "print(nomes_cidades)"
      ],
      "metadata": {
        "colab": {
          "base_uri": "https://localhost:8080/"
        },
        "id": "1RLSf9878_Bd",
        "outputId": "dff1de7c-6487-4707-ec52-0439ee073a59"
      },
      "execution_count": null,
      "outputs": [
        {
          "output_type": "stream",
          "name": "stdout",
          "text": [
            "['São Paulo', 'Londres', 'Tóquio', 'Paris']\n"
          ]
        }
      ]
    },
    {
      "cell_type": "code",
      "source": [
        "#Alterando o valores em um for\n",
        "for posicao in range(len(nomes_cidades)):\n",
        "  nomes_cidades[posicao] = \"Rio de Janeiro\"\n",
        "print(nomes_cidades)"
      ],
      "metadata": {
        "colab": {
          "base_uri": "https://localhost:8080/"
        },
        "id": "KMn37H0f9WqH",
        "outputId": "3aae2947-2f3a-408b-c801-f6ddcf74c360"
      },
      "execution_count": null,
      "outputs": [
        {
          "output_type": "stream",
          "name": "stdout",
          "text": [
            "['Rio de Janeiro', 'Rio de Janeiro', 'Rio de Janeiro', 'Rio de Janeiro']\n"
          ]
        }
      ]
    },
    {
      "cell_type": "code",
      "source": [
        "#Função range\n",
        "print(list(range(10)))\n",
        "print(list(range(2, 10)))\n",
        "print(list(range(2, 10, 2))) #Ultimo critério é o número de incrementos a cada interação"
      ],
      "metadata": {
        "colab": {
          "base_uri": "https://localhost:8080/"
        },
        "id": "HlD_jVTM9qWd",
        "outputId": "af0448d6-a83b-46bd-8dd1-db409ffb7881"
      },
      "execution_count": null,
      "outputs": [
        {
          "output_type": "stream",
          "name": "stdout",
          "text": [
            "[0, 1, 2, 3, 4, 5, 6, 7, 8, 9]\n",
            "[2, 3, 4, 5, 6, 7, 8, 9]\n",
            "[2, 4, 6, 8]\n"
          ]
        }
      ]
    },
    {
      "cell_type": "markdown",
      "source": [
        "## Funções\n",
        "\n",
        "Sequência de passos nomeada"
      ],
      "metadata": {
        "id": "QDfhiicb-e73"
      }
    },
    {
      "cell_type": "code",
      "source": [
        "#exemplo 1\n",
        "def hello():\n",
        "  print('Olá, mundo!')\n",
        "\n",
        "hello()"
      ],
      "metadata": {
        "colab": {
          "base_uri": "https://localhost:8080/"
        },
        "id": "HozubN2h-hG_",
        "outputId": "6104966e-31eb-4714-a261-2d557ccf26c5"
      },
      "execution_count": null,
      "outputs": [
        {
          "output_type": "stream",
          "name": "stdout",
          "text": [
            "Olá, mundo!\n"
          ]
        }
      ]
    },
    {
      "cell_type": "code",
      "source": [
        "#exemplo 2\n",
        "def calcula_media(valor1, valor2, valor3):\n",
        "  soma = valor1 + valor2 + valor3\n",
        "  media = soma / 3\n",
        "  return media \n",
        "\n",
        "resultado = calcula_media(9, 10, 8)\n",
        "print(resultado)"
      ],
      "metadata": {
        "colab": {
          "base_uri": "https://localhost:8080/"
        },
        "id": "zDahmqriA1il",
        "outputId": "711eb2f7-6281-4c8a-eb56-d4aec68a61ab"
      },
      "execution_count": null,
      "outputs": [
        {
          "output_type": "stream",
          "name": "stdout",
          "text": [
            "9.0\n"
          ]
        }
      ]
    },
    {
      "cell_type": "code",
      "source": [
        "resultado2 = calcula_media(valor1=9, valor2=10, valor3=9)\n",
        "print(resultado2)"
      ],
      "metadata": {
        "colab": {
          "base_uri": "https://localhost:8080/"
        },
        "id": "fzV0Vd7kBWZD",
        "outputId": "cb2a0f3a-67b7-4432-e6f3-a0d8ee3d8cb3"
      },
      "execution_count": null,
      "outputs": [
        {
          "output_type": "stream",
          "name": "stdout",
          "text": [
            "9.333333333333334\n"
          ]
        }
      ]
    },
    {
      "cell_type": "code",
      "source": [
        "print('Olá', end=' ')\n",
        "print(', Pietro')"
      ],
      "metadata": {
        "colab": {
          "base_uri": "https://localhost:8080/"
        },
        "id": "6fEgVXxuBw0k",
        "outputId": "81a467a2-a840-4cbd-f034-98af3d5f7678"
      },
      "execution_count": null,
      "outputs": [
        {
          "output_type": "stream",
          "name": "stdout",
          "text": [
            "Olá , Pietro\n"
          ]
        }
      ]
    },
    {
      "cell_type": "code",
      "source": [
        "#exemplo3\n",
        "def calcula_media(valor1=0, valor2=0, valor3=0):\n",
        "  soma = valor1 + valor2 + valor3\n",
        "  media = soma / 3\n",
        "  return media \n",
        "\n",
        "resultado = calcula_media()\n",
        "print(resultado)"
      ],
      "metadata": {
        "colab": {
          "base_uri": "https://localhost:8080/"
        },
        "id": "TDKAO91bB9dj",
        "outputId": "19b79018-9475-44a3-c77a-7abb4a6d4bf3"
      },
      "execution_count": null,
      "outputs": [
        {
          "output_type": "stream",
          "name": "stdout",
          "text": [
            "0.0\n"
          ]
        }
      ]
    },
    {
      "cell_type": "code",
      "source": [
        "#exemplo4\n",
        "def calcula_media(*args):\n",
        "  soma = sum(args)\n",
        "  media = soma / len(args)\n",
        "  return media\n",
        "\n",
        "calcula_media(10,8,9)"
      ],
      "metadata": {
        "colab": {
          "base_uri": "https://localhost:8080/"
        },
        "id": "IfNPsRN4DNs2",
        "outputId": "b440a682-6ead-452d-d9db-46b191c039e1"
      },
      "execution_count": null,
      "outputs": [
        {
          "output_type": "execute_result",
          "data": {
            "text/plain": [
              "9.0"
            ]
          },
          "metadata": {},
          "execution_count": 110
        }
      ]
    },
    {
      "cell_type": "code",
      "source": [
        "#exemplo5\n",
        "def print_info(**kwargs):\n",
        "  print(kwargs, type(kwargs))\n",
        "\n",
        "print_info(nome='Pietro', sobrenome='Ribeiro')"
      ],
      "metadata": {
        "colab": {
          "base_uri": "https://localhost:8080/"
        },
        "id": "9Z2cnp8bDXOD",
        "outputId": "cd4c7f45-544c-43f4-ec48-53485fe40271"
      },
      "execution_count": null,
      "outputs": [
        {
          "output_type": "stream",
          "name": "stdout",
          "text": [
            "{'nome': 'Pietro', 'sobrenome': 'Ribeiro'} <class 'dict'>\n"
          ]
        }
      ]
    }
  ]
}