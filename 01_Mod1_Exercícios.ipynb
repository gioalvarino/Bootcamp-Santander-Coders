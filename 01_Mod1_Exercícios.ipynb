{
  "nbformat": 4,
  "nbformat_minor": 0,
  "metadata": {
    "colab": {
      "provenance": [],
      "authorship_tag": "ABX9TyMn0EvwZTEZtoYkhtoPyMWF"
    },
    "kernelspec": {
      "name": "python3",
      "display_name": "Python 3"
    },
    "language_info": {
      "name": "python"
    }
  },
  "cells": [
    {
      "cell_type": "markdown",
      "source": [
        "# Módulo 1"
      ],
      "metadata": {
        "id": "H2aJ7BGhNt7r"
      }
    },
    {
      "cell_type": "markdown",
      "source": [
        "### Questão 1\n",
        "Faça um programa que peça um valor monetário e diminua-o em 15%. Seu programa deve imprimir a mensagem \"O novo valor é [valor]\"."
      ],
      "metadata": {
        "id": "r7qUUrylNxuR"
      }
    },
    {
      "cell_type": "code",
      "execution_count": 68,
      "metadata": {
        "colab": {
          "base_uri": "https://localhost:8080/"
        },
        "id": "Nef4IwWVNoXH",
        "outputId": "7f81c9c2-e337-4efd-e7d1-c39baaae3773"
      },
      "outputs": [
        {
          "output_type": "stream",
          "name": "stdout",
          "text": [
            "Digite um valor em R$: 100\n",
            "O novo valor é: 85.0\n"
          ]
        }
      ],
      "source": [
        "valor_monetario = float(input('Digite um valor em R$: '))\n",
        "\n",
        "valor = valor_monetario * (1 - 0.15)\n",
        "\n",
        "print(f'O novo valor é: {valor}')"
      ]
    },
    {
      "cell_type": "markdown",
      "source": [
        "### Questão 2\n",
        "Faça um programa que leia a validade das informações:\n",
        "\n",
        "- a. Idade: entre 0 e 150;\n",
        "- b. Salário: maior que 0;\n",
        "- c. Sexo: M, F ou Outro;\n",
        "\n",
        "O programa deve imprimir uma mensagem de erro para cada informação inválida."
      ],
      "metadata": {
        "id": "tFPdsMRDPNPr"
      }
    },
    {
      "cell_type": "code",
      "source": [
        "#Idade\n",
        "idade = input('Digite sua idade: ')\n",
        "while int(idade) <= 0 or int(idade) > 150:\n",
        "  idade = input(f'Informação Inválida, Digite sua idade: ')\n",
        "\n",
        "#Salário\n",
        "salario = float(input('Digite seu salário em R$: '))\n",
        "while float(salario) <= 0 :\n",
        "  salario = input(f'Informação Inválida, Digite seu salário em R$: ')\n",
        "\n",
        "#Sexo\n",
        "possiveis = ['F','M','OUTROS']\n",
        "sexo = input('Digite seu sexo (exemplo: F, M, Outros): ').upper()\n",
        "while sexo not in possiveis:\n",
        "    sexo = input(f'Informação Inválida, Digite seu sexo: ').upper()\n",
        "\n",
        "print(f'\\nResumo:\\n Idade: {idade}\\n Salário: {salario}\\n Sexo: {sexo}\\n')"
      ],
      "metadata": {
        "colab": {
          "base_uri": "https://localhost:8080/"
        },
        "id": "jiNKdJDMPQrL",
        "outputId": "351b4766-6e25-4785-a74e-01eda078e230"
      },
      "execution_count": 70,
      "outputs": [
        {
          "output_type": "stream",
          "name": "stdout",
          "text": [
            "Digite sua idade: 0\n",
            "Informação Inválida, Digite sua idade: 500\n",
            "Informação Inválida, Digite sua idade: 23\n",
            "Digite seu salário em R$: -100\n",
            "Informação Inválida, Digite seu salário em R$: 5000\n",
            "Digite seu sexo (exemplo: F, M, Outros): feminino\n",
            "Informação Inválida, Digite seu sexo: elfa\n",
            "Informação Inválida, Digite seu sexo: f\n",
            "\n",
            "Resumo:\n",
            " Idade: 23\n",
            " Salário: 5000\n",
            " Sexo: F\n",
            "\n"
          ]
        }
      ]
    },
    {
      "cell_type": "markdown",
      "source": [
        "### Questão 3\n",
        "Vamos fazer um programa para verificar quem é o assassino de um crime. Para descobrir o assassino, a polícia faz um pequeno questionário com 5 perguntas onde a resposta só pode ser sim ou não:\n",
        "\n",
        "- a. Mora perto da vítima?\n",
        "- b. Já trabalhou com a vítima?\n",
        "- c. Telefonou para a vítima?\n",
        "- d. Esteve no local do crime?\n",
        "- e. Devia para a vítima?\n",
        "\n",
        "Cada resposta sim dá um ponto para o suspeito. A polícia considera que os suspeitos com 5 pontos são os assassinos, com 4 a 3 pontos são cúmplices e 2 pontos são apenas suspeitos, necessitando outras investigações. Valores iguais ou abaixo de 1 são liberados."
      ],
      "metadata": {
        "id": "2LUnr0LHUgly"
      }
    },
    {
      "cell_type": "code",
      "source": [
        "!pip install unidecode \n",
        "\n",
        "from unidecode import unidecode"
      ],
      "metadata": {
        "colab": {
          "base_uri": "https://localhost:8080/"
        },
        "id": "8rH_Y0P_ZlR4",
        "outputId": "4932eb3e-792f-49c0-c5b1-e7192b9e9df1"
      },
      "execution_count": 38,
      "outputs": [
        {
          "output_type": "stream",
          "name": "stdout",
          "text": [
            "Looking in indexes: https://pypi.org/simple, https://us-python.pkg.dev/colab-wheels/public/simple/\n",
            "Requirement already satisfied: unidecode in /usr/local/lib/python3.7/dist-packages (1.3.4)\n"
          ]
        }
      ]
    },
    {
      "cell_type": "code",
      "source": [
        "questionario = ['Mora perto da vítima? ', 'Já trabalhou com a vítima? ', \n",
        "                'Telefonou para a vítima? ', 'Esteve no local do crime? ', \n",
        "                'Devia para a vítima? ']\n",
        "culpometro = 0\n",
        "possiveis = ['SIM', 'NAO']\n",
        "print('Responda todas as perguntas apenas com SIM ou NAO.')\n",
        "\n",
        "\n",
        "for pergunta in questionario:\n",
        "    resp = unidecode(input(pergunta))\n",
        "    while resp.upper() not in possiveis:\n",
        "      resp = input(f'Informação Inválida, {pergunta} ')\n",
        "    if resp.upper() == 'SIM':\n",
        "      culpometro += 1\n",
        "    else:\n",
        "      pass\n",
        "\n",
        "if culpometro == 5:\n",
        "    print('ASSASSINO')\n",
        "elif 3 <= culpometro <= 4:\n",
        "    print('CUMPLICE')\n",
        "elif culpometro == 2:\n",
        "    print('SUSPEITO')\n",
        "else:\n",
        "    print('LIBERADO')"
      ],
      "metadata": {
        "colab": {
          "base_uri": "https://localhost:8080/"
        },
        "id": "NgWxlTWlUoGa",
        "outputId": "53c7922e-18b7-4c7e-917e-08911057f1f9"
      },
      "execution_count": 67,
      "outputs": [
        {
          "output_type": "stream",
          "name": "stdout",
          "text": [
            "Responda todas as perguntas apenas com SIM ou NAO.\n",
            "Mora perto da vítima? sim\n",
            "Já trabalhou com a vítima? sim\n",
            "Telefonou para a vítima? sim\n",
            "Esteve no local do crime? sim\n",
            "Devia para a vítima? sim\n",
            "ASSASSINO\n"
          ]
        }
      ]
    },
    {
      "cell_type": "markdown",
      "source": [
        "### Questão 4\n",
        "\n",
        "Faça um programa que imprima a tabuada do 9 (de 9 * 1 a 9 * 10) usando loops."
      ],
      "metadata": {
        "id": "8r7BXpgraVKE"
      }
    },
    {
      "cell_type": "code",
      "source": [
        "#Opção 1\n",
        "\n",
        "print('Tabuada do 9')\n",
        "contador = 0\n",
        "\n",
        "while contador <= 9:\n",
        "  contador += 1\n",
        "  print(f'9 * {contador} = ', 9 * contador)"
      ],
      "metadata": {
        "colab": {
          "base_uri": "https://localhost:8080/"
        },
        "id": "0N0mOr_BaZPT",
        "outputId": "5a8e7b93-5065-4ee7-972c-91182f4591dd"
      },
      "execution_count": 62,
      "outputs": [
        {
          "output_type": "stream",
          "name": "stdout",
          "text": [
            "Tabuada do 9\n",
            "9 * 1 =  9\n",
            "9 * 2 =  18\n",
            "9 * 3 =  27\n",
            "9 * 4 =  36\n",
            "9 * 5 =  45\n",
            "9 * 6 =  54\n",
            "9 * 7 =  63\n",
            "9 * 8 =  72\n",
            "9 * 9 =  81\n",
            "9 * 10 =  90\n"
          ]
        }
      ]
    },
    {
      "cell_type": "code",
      "source": [
        "#Opção 2\n",
        "\n",
        "tabuada = int(input('Insira o valor correspondente a tabuada que você deseja calcular: '))\n",
        "\n",
        "print(f'Tabuada do {tabuada}')\n",
        "\n",
        "for i in range(0,11):\n",
        "  print(f'{tabuada} * {i} = {tabuada * i}')"
      ],
      "metadata": {
        "colab": {
          "base_uri": "https://localhost:8080/"
        },
        "id": "9phE7snWgMqL",
        "outputId": "6dfa4abc-33c8-4543-8707-17b5c3a8803d"
      },
      "execution_count": 64,
      "outputs": [
        {
          "output_type": "stream",
          "name": "stdout",
          "text": [
            "Insira o valor correspondente a tabuada que você deseja calcular: 9\n",
            "Tabuada do 9\n",
            "9 * 0 = 0\n",
            "9 * 1 = 9\n",
            "9 * 2 = 18\n",
            "9 * 3 = 27\n",
            "9 * 4 = 36\n",
            "9 * 5 = 45\n",
            "9 * 6 = 54\n",
            "9 * 7 = 63\n",
            "9 * 8 = 72\n",
            "9 * 9 = 81\n",
            "9 * 10 = 90\n"
          ]
        }
      ]
    }
  ]
}